{
  "nbformat": 4,
  "nbformat_minor": 0,
  "metadata": {
    "colab": {
      "name": "sharkattackClean.ipynb",
      "provenance": [],
      "collapsed_sections": [
        "QfxzUjjwAmD7",
        "3sRsR8zMT-ra",
        "YxPaU67K8h17",
        "BXb_zkyoUjzv"
      ],
      "toc_visible": true,
      "include_colab_link": true
    },
    "kernelspec": {
      "name": "python3",
      "display_name": "Python 3"
    },
    "language_info": {
      "name": "python"
    }
  },
  "cells": [
    {
      "cell_type": "markdown",
      "metadata": {
        "id": "view-in-github",
        "colab_type": "text"
      },
      "source": [
        "<a href=\"https://colab.research.google.com/github/prince848/SharkAttack-Case-Study/blob/main/sharkattackClean.ipynb\" target=\"_parent\"><img src=\"https://colab.research.google.com/assets/colab-badge.svg\" alt=\"Open In Colab\"/></a>"
      ]
    },
    {
      "cell_type": "code",
      "metadata": {
        "id": "k-9GH47KwFul"
      },
      "source": [
        "import pandas as pd\n",
        "import numpy as np\n",
        "import re\n",
        "from matplotlib import pyplot as plt\n",
        "import xlrd"
      ],
      "execution_count": null,
      "outputs": []
    },
    {
      "cell_type": "code",
      "metadata": {
        "id": "VT725d8u5wjU"
      },
      "source": [
        "import missingno"
      ],
      "execution_count": null,
      "outputs": []
    },
    {
      "cell_type": "code",
      "metadata": {
        "id": "LE5a43jFwPrm"
      },
      "source": [
        "import os\n",
        "df=pd.read_csv(\"/content/drive/MyDrive/Shark attack/GSAF5.csv\")"
      ],
      "execution_count": null,
      "outputs": []
    },
    {
      "cell_type": "code",
      "metadata": {
        "colab": {
          "base_uri": "https://localhost:8080/"
        },
        "id": "vzeGNhfd3Uy3",
        "outputId": "3fdb59dd-13f1-4b7e-ea07-81af54ab0952"
      },
      "source": [
        "file_list = [f for f in df]\n",
        "print(file_list)"
      ],
      "execution_count": null,
      "outputs": [
        {
          "output_type": "stream",
          "name": "stdout",
          "text": [
            "['Case Number', 'Date', 'Year', 'Type', 'Country', 'Area', 'Location', 'Activity', 'Name', 'Sex ', 'Age', 'Injury', 'Fatal (Y/N)', 'Time', 'Species ', 'Investigator or Source', 'pdf', 'href formula', 'href', 'Case Number.1', 'Case Number.2', 'original order', 'Unnamed: 22', 'Unnamed: 23']\n"
          ]
        }
      ]
    },
    {
      "cell_type": "markdown",
      "metadata": {
        "id": "6IqY317d-eXw"
      },
      "source": [
        "## ***CASE NUMBER***"
      ]
    },
    {
      "cell_type": "code",
      "metadata": {
        "colab": {
          "base_uri": "https://localhost:8080/",
          "height": 470
        },
        "id": "hWp7f66E36aC",
        "outputId": "f507cdff-2c46-476e-d767-e5c996c50f6c"
      },
      "source": [
        "print(df['Case Number'].equals(df['Case Number.1']))\n",
        "print(df['Case Number.1'].equals(df['Case Number.2']))\n",
        "print(df['Case Number'].equals(df['Case Number.2']))\n",
        "case_number=df[[\"Case Number\",\"Case Number.1\",\"Case Number.2\"]]\n",
        "# not_equal = case_number[case_number[\"Case Number\"]!=case_number[\"Case Number.1\"]]\n",
        "not_equal = case_number[case_number[\"Case Number\"]!=case_number[\"Case Number.2\"]]\n",
        "#not_equal = case_number[case_number[\"Case Number.1\"]!=case_number[\"Case Number.2\"]]\n",
        "display(not_equal)"
      ],
      "execution_count": null,
      "outputs": [
        {
          "output_type": "stream",
          "name": "stdout",
          "text": [
            "False\n",
            "False\n",
            "False\n"
          ]
        },
        {
          "output_type": "display_data",
          "data": {
            "text/html": [
              "<div>\n",
              "<style scoped>\n",
              "    .dataframe tbody tr th:only-of-type {\n",
              "        vertical-align: middle;\n",
              "    }\n",
              "\n",
              "    .dataframe tbody tr th {\n",
              "        vertical-align: top;\n",
              "    }\n",
              "\n",
              "    .dataframe thead th {\n",
              "        text-align: right;\n",
              "    }\n",
              "</style>\n",
              "<table border=\"1\" class=\"dataframe\">\n",
              "  <thead>\n",
              "    <tr style=\"text-align: right;\">\n",
              "      <th></th>\n",
              "      <th>Case Number</th>\n",
              "      <th>Case Number.1</th>\n",
              "      <th>Case Number.2</th>\n",
              "    </tr>\n",
              "  </thead>\n",
              "  <tbody>\n",
              "    <tr>\n",
              "      <th>83</th>\n",
              "      <td>NaN</td>\n",
              "      <td>2021.01.13.b</td>\n",
              "      <td>2021.01.13.b</td>\n",
              "    </tr>\n",
              "    <tr>\n",
              "      <th>164</th>\n",
              "      <td>2020.05.26</td>\n",
              "      <td>NaN</td>\n",
              "      <td>NaN</td>\n",
              "    </tr>\n",
              "    <tr>\n",
              "      <th>766</th>\n",
              "      <td>2015.07-10</td>\n",
              "      <td>2015.07.10</td>\n",
              "      <td>2015.07.10</td>\n",
              "    </tr>\n",
              "    <tr>\n",
              "      <th>5340</th>\n",
              "      <td>1934.01.08.R</td>\n",
              "      <td>1934.02.08.R</td>\n",
              "      <td>1934.02.08.R</td>\n",
              "    </tr>\n",
              "    <tr>\n",
              "      <th>5879</th>\n",
              "      <td>NaN</td>\n",
              "      <td>1905.09.06.R</td>\n",
              "      <td>1905.09.06.R</td>\n",
              "    </tr>\n",
              "    <tr>\n",
              "      <th>...</th>\n",
              "      <td>...</td>\n",
              "      <td>...</td>\n",
              "      <td>...</td>\n",
              "    </tr>\n",
              "    <tr>\n",
              "      <th>25822</th>\n",
              "      <td>NaN</td>\n",
              "      <td>NaN</td>\n",
              "      <td>NaN</td>\n",
              "    </tr>\n",
              "    <tr>\n",
              "      <th>25823</th>\n",
              "      <td>NaN</td>\n",
              "      <td>NaN</td>\n",
              "      <td>NaN</td>\n",
              "    </tr>\n",
              "    <tr>\n",
              "      <th>25824</th>\n",
              "      <td>NaN</td>\n",
              "      <td>NaN</td>\n",
              "      <td>NaN</td>\n",
              "    </tr>\n",
              "    <tr>\n",
              "      <th>25825</th>\n",
              "      <td>NaN</td>\n",
              "      <td>NaN</td>\n",
              "      <td>NaN</td>\n",
              "    </tr>\n",
              "    <tr>\n",
              "      <th>25826</th>\n",
              "      <td>xx</td>\n",
              "      <td>NaN</td>\n",
              "      <td>NaN</td>\n",
              "    </tr>\n",
              "  </tbody>\n",
              "</table>\n",
              "<p>19138 rows × 3 columns</p>\n",
              "</div>"
            ],
            "text/plain": [
              "        Case Number Case Number.1 Case Number.2\n",
              "83              NaN  2021.01.13.b  2021.01.13.b\n",
              "164      2020.05.26           NaN           NaN\n",
              "766      2015.07-10    2015.07.10    2015.07.10\n",
              "5340   1934.01.08.R  1934.02.08.R  1934.02.08.R\n",
              "5879            NaN  1905.09.06.R  1905.09.06.R\n",
              "...             ...           ...           ...\n",
              "25822           NaN           NaN           NaN\n",
              "25823           NaN           NaN           NaN\n",
              "25824           NaN           NaN           NaN\n",
              "25825           NaN           NaN           NaN\n",
              "25826            xx           NaN           NaN\n",
              "\n",
              "[19138 rows x 3 columns]"
            ]
          },
          "metadata": {}
        }
      ]
    },
    {
      "cell_type": "code",
      "metadata": {
        "colab": {
          "base_uri": "https://localhost:8080/"
        },
        "id": "Q5d6m9vT42nU",
        "outputId": "6996f592-9c33-4a0a-e68a-58d8fc7075fb"
      },
      "source": [
        "df['Case Number.1'].isin(df['Case Number.2']).value_counts()"
      ],
      "execution_count": null,
      "outputs": [
        {
          "output_type": "execute_result",
          "data": {
            "text/plain": [
              "True     25789\n",
              "False       38\n",
              "Name: Case Number.1, dtype: int64"
            ]
          },
          "metadata": {},
          "execution_count": 6
        }
      ]
    },
    {
      "cell_type": "code",
      "metadata": {
        "id": "D1abnC60oH7m"
      },
      "source": [
        "df = df.drop(columns=[\"Case Number\"])"
      ],
      "execution_count": null,
      "outputs": []
    },
    {
      "cell_type": "code",
      "metadata": {
        "colab": {
          "base_uri": "https://localhost:8080/",
          "height": 419
        },
        "id": "JPZe3rIP472M",
        "outputId": "0b4415fe-44d6-4f6c-838f-d4c0ed9de015"
      },
      "source": [
        "case_number2=df[[\"Case Number.1\",\"Case Number.2\"]]\n",
        "not_equal = case_number2[case_number2[\"Case Number.1\"]!=case_number2[\"Case Number.2\"]]\n",
        "display(not_equal)"
      ],
      "execution_count": null,
      "outputs": [
        {
          "output_type": "display_data",
          "data": {
            "text/html": [
              "<div>\n",
              "<style scoped>\n",
              "    .dataframe tbody tr th:only-of-type {\n",
              "        vertical-align: middle;\n",
              "    }\n",
              "\n",
              "    .dataframe tbody tr th {\n",
              "        vertical-align: top;\n",
              "    }\n",
              "\n",
              "    .dataframe thead th {\n",
              "        text-align: right;\n",
              "    }\n",
              "</style>\n",
              "<table border=\"1\" class=\"dataframe\">\n",
              "  <thead>\n",
              "    <tr style=\"text-align: right;\">\n",
              "      <th></th>\n",
              "      <th>Case Number.1</th>\n",
              "      <th>Case Number.2</th>\n",
              "    </tr>\n",
              "  </thead>\n",
              "  <tbody>\n",
              "    <tr>\n",
              "      <th>6</th>\n",
              "      <td>2021. 08.21</td>\n",
              "      <td>2021.08.21</td>\n",
              "    </tr>\n",
              "    <tr>\n",
              "      <th>9</th>\n",
              "      <td>2021..08.07.b</td>\n",
              "      <td>2021.08.07.b</td>\n",
              "    </tr>\n",
              "    <tr>\n",
              "      <th>10</th>\n",
              "      <td>2021.08.07.a</td>\n",
              "      <td>2021..08.07.a</td>\n",
              "    </tr>\n",
              "    <tr>\n",
              "      <th>73</th>\n",
              "      <td>2021.02.20</td>\n",
              "      <td>2021.02.21</td>\n",
              "    </tr>\n",
              "    <tr>\n",
              "      <th>81</th>\n",
              "      <td>2021.01.22.a</td>\n",
              "      <td>2021.01.22</td>\n",
              "    </tr>\n",
              "    <tr>\n",
              "      <th>...</th>\n",
              "      <td>...</td>\n",
              "      <td>...</td>\n",
              "    </tr>\n",
              "    <tr>\n",
              "      <th>25822</th>\n",
              "      <td>NaN</td>\n",
              "      <td>NaN</td>\n",
              "    </tr>\n",
              "    <tr>\n",
              "      <th>25823</th>\n",
              "      <td>NaN</td>\n",
              "      <td>NaN</td>\n",
              "    </tr>\n",
              "    <tr>\n",
              "      <th>25824</th>\n",
              "      <td>NaN</td>\n",
              "      <td>NaN</td>\n",
              "    </tr>\n",
              "    <tr>\n",
              "      <th>25825</th>\n",
              "      <td>NaN</td>\n",
              "      <td>NaN</td>\n",
              "    </tr>\n",
              "    <tr>\n",
              "      <th>25826</th>\n",
              "      <td>NaN</td>\n",
              "      <td>NaN</td>\n",
              "    </tr>\n",
              "  </tbody>\n",
              "</table>\n",
              "<p>19167 rows × 2 columns</p>\n",
              "</div>"
            ],
            "text/plain": [
              "       Case Number.1  Case Number.2\n",
              "6        2021. 08.21     2021.08.21\n",
              "9      2021..08.07.b   2021.08.07.b\n",
              "10      2021.08.07.a  2021..08.07.a\n",
              "73        2021.02.20     2021.02.21\n",
              "81      2021.01.22.a     2021.01.22\n",
              "...              ...            ...\n",
              "25822            NaN            NaN\n",
              "25823            NaN            NaN\n",
              "25824            NaN            NaN\n",
              "25825            NaN            NaN\n",
              "25826            NaN            NaN\n",
              "\n",
              "[19167 rows x 2 columns]"
            ]
          },
          "metadata": {}
        }
      ]
    },
    {
      "cell_type": "code",
      "metadata": {
        "id": "j6YPpRqb5Tl6"
      },
      "source": [
        "df = df.drop(columns=[\"Case Number.1\"])"
      ],
      "execution_count": null,
      "outputs": []
    },
    {
      "cell_type": "code",
      "metadata": {
        "id": "VnddKk-O5aGJ"
      },
      "source": [
        "df.rename(columns={\"Case Number.2\":\"Case Number\"}, inplace=True)\n"
      ],
      "execution_count": null,
      "outputs": []
    },
    {
      "cell_type": "code",
      "metadata": {
        "id": "oJza9ZkO6Ppf"
      },
      "source": [
        "df['Case Number'] = df['Case Number'].replace(\",\",\".\",regex=False)"
      ],
      "execution_count": null,
      "outputs": []
    },
    {
      "cell_type": "code",
      "metadata": {
        "id": "P50nEAi_KjqH"
      },
      "source": [
        "df.rename(columns={\"Sex \":\"Sex\"}, inplace=True)\n",
        "df.rename(columns={\"Species \":\"Species\"}, inplace=True)"
      ],
      "execution_count": null,
      "outputs": []
    },
    {
      "cell_type": "code",
      "metadata": {
        "id": "2tM1yLiEBYcB"
      },
      "source": [
        "df=df[[\"Case Number\",\"Date\",\"Year\",\"Sex\",\"Type\",\"Species\",\"Country\", \"Area\", \"Location\", \"Activity\", \"Age\", \"Fatal (Y/N)\", \"Time\"]]"
      ],
      "execution_count": null,
      "outputs": []
    },
    {
      "cell_type": "code",
      "metadata": {
        "colab": {
          "base_uri": "https://localhost:8080/"
        },
        "id": "7DVTFUd9BLZB",
        "outputId": "4484f4a5-8511-4014-891f-c10dd943576e"
      },
      "source": [
        "df.columns.drop_duplicates()"
      ],
      "execution_count": null,
      "outputs": [
        {
          "output_type": "execute_result",
          "data": {
            "text/plain": [
              "Index(['Case Number', 'Date', 'Year', 'Sex', 'Type', 'Species', 'Country',\n",
              "       'Area', 'Location', 'Activity', 'Age', 'Fatal (Y/N)', 'Time'],\n",
              "      dtype='object')"
            ]
          },
          "metadata": {},
          "execution_count": 14
        }
      ]
    },
    {
      "cell_type": "markdown",
      "metadata": {
        "id": "QfxzUjjwAmD7"
      },
      "source": [
        "## ***COLUMN AGE***"
      ]
    },
    {
      "cell_type": "code",
      "metadata": {
        "colab": {
          "base_uri": "https://localhost:8080/"
        },
        "id": "_kG2f4MkAuZV",
        "outputId": "31ce40d6-f663-4116-a85c-6cc3e9817bd2"
      },
      "source": [
        "df['Age'].value_counts().sample(20)"
      ],
      "execution_count": null,
      "outputs": [
        {
          "output_type": "execute_result",
          "data": {
            "text/plain": [
              "29                  84\n",
              "56                  12\n",
              "33                  47\n",
              "2 to 3 months        1\n",
              "30                  81\n",
              "48                  32\n",
              "Teens                1\n",
              "50 & 30              1\n",
              "70                  10\n",
              "MAKE LINE GREEN      1\n",
              "17                 167\n",
              "19                 148\n",
              "86                   1\n",
              ">50                  1\n",
              "teen                 5\n",
              "6                   15\n",
              "23 & 20              1\n",
              " 28                  1\n",
              "60s                  3\n",
              "34 & 19              1\n",
              "Name: Age, dtype: int64"
            ]
          },
          "metadata": {},
          "execution_count": 15
        }
      ]
    },
    {
      "cell_type": "code",
      "metadata": {
        "colab": {
          "base_uri": "https://localhost:8080/"
        },
        "id": "t1Qc7GYpA3nN",
        "outputId": "e058df49-8514-43a5-c9e3-cfc68698f423"
      },
      "source": [
        "df['Age'].replace(to_replace=['Teen','teen'],value='16',inplace=True)\n",
        "df['Age'].replace(to_replace='30s',value='35',inplace=True)\n",
        "df['Age'].replace(to_replace='20s',value='25',inplace=True)\n",
        "df['Age'] = pd.to_numeric(df['Age'], errors='coerce', downcast='integer')\n",
        "df['Age'].value_counts().head(20)"
      ],
      "execution_count": null,
      "outputs": [
        {
          "output_type": "execute_result",
          "data": {
            "text/plain": [
              "17.0    167\n",
              "16.0    160\n",
              "18.0    155\n",
              "19.0    148\n",
              "20.0    147\n",
              "15.0    146\n",
              "25.0    125\n",
              "21.0    124\n",
              "22.0    119\n",
              "14.0    111\n",
              "24.0    110\n",
              "13.0     99\n",
              "26.0     90\n",
              "23.0     87\n",
              "35.0     85\n",
              "28.0     85\n",
              "12.0     84\n",
              "29.0     84\n",
              "30.0     82\n",
              "27.0     82\n",
              "Name: Age, dtype: int64"
            ]
          },
          "metadata": {},
          "execution_count": 16
        }
      ]
    },
    {
      "cell_type": "markdown",
      "metadata": {
        "id": "sCOeTJ2lPGjG"
      },
      "source": [
        " ## ***Column Country***"
      ]
    },
    {
      "cell_type": "code",
      "metadata": {
        "colab": {
          "base_uri": "https://localhost:8080/"
        },
        "id": "MT0XwqkYFJfj",
        "outputId": "46d2bac7-6753-47ee-eae3-7cc8c12d8c02"
      },
      "source": [
        "filtered = df[(df['Country'].isnull())]\n",
        "\n",
        "print(filtered.shape)"
      ],
      "execution_count": null,
      "outputs": [
        {
          "output_type": "stream",
          "name": "stdout",
          "text": [
            "(19177, 13)\n"
          ]
        }
      ]
    },
    {
      "cell_type": "code",
      "metadata": {
        "colab": {
          "base_uri": "https://localhost:8080/",
          "height": 394
        },
        "id": "BcRzXNuEKn2f",
        "outputId": "34f7dd9c-dd1f-42c8-c4cb-3123d75e332b"
      },
      "source": [
        "df['Country'] = df['Country'].str.replace('ENGLAND', 'UNITED KINGDOM')\n",
        "df['Country'] = df['Country'].str.replace('SCOTLAND', 'UNITED KINGDOM')\n",
        "\n",
        "filtered = df[(df['Country']==\"UNITED KINGDOM\")]\n",
        "print(filtered.shape)\n",
        "filtered.head()"
      ],
      "execution_count": null,
      "outputs": [
        {
          "output_type": "stream",
          "name": "stdout",
          "text": [
            "(43, 13)\n"
          ]
        },
        {
          "output_type": "execute_result",
          "data": {
            "text/html": [
              "<div>\n",
              "<style scoped>\n",
              "    .dataframe tbody tr th:only-of-type {\n",
              "        vertical-align: middle;\n",
              "    }\n",
              "\n",
              "    .dataframe tbody tr th {\n",
              "        vertical-align: top;\n",
              "    }\n",
              "\n",
              "    .dataframe thead th {\n",
              "        text-align: right;\n",
              "    }\n",
              "</style>\n",
              "<table border=\"1\" class=\"dataframe\">\n",
              "  <thead>\n",
              "    <tr style=\"text-align: right;\">\n",
              "      <th></th>\n",
              "      <th>Case Number</th>\n",
              "      <th>Date</th>\n",
              "      <th>Year</th>\n",
              "      <th>Sex</th>\n",
              "      <th>Type</th>\n",
              "      <th>Species</th>\n",
              "      <th>Country</th>\n",
              "      <th>Area</th>\n",
              "      <th>Location</th>\n",
              "      <th>Activity</th>\n",
              "      <th>Age</th>\n",
              "      <th>Fatal (Y/N)</th>\n",
              "      <th>Time</th>\n",
              "    </tr>\n",
              "  </thead>\n",
              "  <tbody>\n",
              "    <tr>\n",
              "      <th>43</th>\n",
              "      <td>2021.06.12</td>\n",
              "      <td>12-Jun-2021</td>\n",
              "      <td>2021.0</td>\n",
              "      <td>M</td>\n",
              "      <td>Provoked</td>\n",
              "      <td>Tope shark, 6'</td>\n",
              "      <td>UNITED KINGDOM</td>\n",
              "      <td>West Sussex</td>\n",
              "      <td>Littlehampton</td>\n",
              "      <td>Fishing</td>\n",
              "      <td>51.0</td>\n",
              "      <td>N</td>\n",
              "      <td>NaN</td>\n",
              "    </tr>\n",
              "    <tr>\n",
              "      <th>384</th>\n",
              "      <td>2018.05.13.a</td>\n",
              "      <td>13-May-2018</td>\n",
              "      <td>2018.0</td>\n",
              "      <td>M</td>\n",
              "      <td>Invalid</td>\n",
              "      <td>Invalid incident</td>\n",
              "      <td>UNITED KINGDOM</td>\n",
              "      <td>Cornwall</td>\n",
              "      <td>Off Land's End</td>\n",
              "      <td>Fishing</td>\n",
              "      <td>21.0</td>\n",
              "      <td>N</td>\n",
              "      <td>08h15</td>\n",
              "    </tr>\n",
              "    <tr>\n",
              "      <th>509</th>\n",
              "      <td>2017.06.07.R</td>\n",
              "      <td>Reported 07-Jun-2017</td>\n",
              "      <td>2017.0</td>\n",
              "      <td>M</td>\n",
              "      <td>Unprovoked</td>\n",
              "      <td>3m shark, probably a smooth hound</td>\n",
              "      <td>UNITED KINGDOM</td>\n",
              "      <td>South Devon</td>\n",
              "      <td>Bantham Beach</td>\n",
              "      <td>Surfing</td>\n",
              "      <td>30.0</td>\n",
              "      <td>N</td>\n",
              "      <td>NaN</td>\n",
              "    </tr>\n",
              "    <tr>\n",
              "      <th>1125</th>\n",
              "      <td>2012.08.31</td>\n",
              "      <td>31-Aug-2012</td>\n",
              "      <td>2012.0</td>\n",
              "      <td>M</td>\n",
              "      <td>Provoked</td>\n",
              "      <td>Porbeagle shark, 7'</td>\n",
              "      <td>UNITED KINGDOM</td>\n",
              "      <td>Inner Hebrides</td>\n",
              "      <td>Off the Isle of Islay</td>\n",
              "      <td>Shark fishing</td>\n",
              "      <td>53.0</td>\n",
              "      <td>N</td>\n",
              "      <td>NaN</td>\n",
              "    </tr>\n",
              "    <tr>\n",
              "      <th>1224</th>\n",
              "      <td>2011.10.28.R</td>\n",
              "      <td>Reported 28-Oct-2011</td>\n",
              "      <td>2011.0</td>\n",
              "      <td>M</td>\n",
              "      <td>Unprovoked</td>\n",
              "      <td>8' to 10' shark</td>\n",
              "      <td>UNITED KINGDOM</td>\n",
              "      <td>Moray</td>\n",
              "      <td>Spey Bay</td>\n",
              "      <td>Surfing</td>\n",
              "      <td>26.0</td>\n",
              "      <td>N</td>\n",
              "      <td>NaN</td>\n",
              "    </tr>\n",
              "  </tbody>\n",
              "</table>\n",
              "</div>"
            ],
            "text/plain": [
              "       Case Number                  Date    Year  ...   Age Fatal (Y/N)   Time\n",
              "43      2021.06.12           12-Jun-2021  2021.0  ...  51.0           N    NaN\n",
              "384   2018.05.13.a           13-May-2018  2018.0  ...  21.0           N  08h15\n",
              "509   2017.06.07.R  Reported 07-Jun-2017  2017.0  ...  30.0           N    NaN\n",
              "1125    2012.08.31           31-Aug-2012  2012.0  ...  53.0           N    NaN\n",
              "1224  2011.10.28.R  Reported 28-Oct-2011  2011.0  ...  26.0           N    NaN\n",
              "\n",
              "[5 rows x 13 columns]"
            ]
          },
          "metadata": {},
          "execution_count": 18
        }
      ]
    },
    {
      "cell_type": "code",
      "metadata": {
        "id": "Lcwpv27ZK9gA"
      },
      "source": [
        "COUNTRIES= [\"UNITED KINGDOM\",\"MALTA\",\"NEW ZEALAND\",\"FRANCE\",\"CHINA\",\"JAPAN\",\"ITALY\",\"SINGAPORE\",\"AUSTRALIA\",\"USA\",\"CANADA\",\"IRELAND\",\"SOUTH AFRICA\", \"GERMANY\"]\n",
        "df= df.loc[df[\"Country\"].isin(COUNTRIES)]"
      ],
      "execution_count": null,
      "outputs": []
    },
    {
      "cell_type": "code",
      "metadata": {
        "colab": {
          "base_uri": "https://localhost:8080/",
          "height": 255
        },
        "id": "axF4sqUQOHu7",
        "outputId": "ea04d551-169f-4198-b7cd-65abb7b32bc5"
      },
      "source": [
        "counts=df['Country'].value_counts()\n",
        "display(counts)"
      ],
      "execution_count": null,
      "outputs": [
        {
          "output_type": "display_data",
          "data": {
            "text/plain": [
              "USA               2428\n",
              "AUSTRALIA         1429\n",
              "SOUTH AFRICA       589\n",
              "NEW ZEALAND        139\n",
              "ITALY               72\n",
              "UNITED KINGDOM      43\n",
              "JAPAN               35\n",
              "CANADA              13\n",
              "FRANCE              13\n",
              "CHINA                9\n",
              "SINGAPORE            6\n",
              "MALTA                5\n",
              "IRELAND              2\n",
              "Name: Country, dtype: int64"
            ]
          },
          "metadata": {}
        }
      ]
    },
    {
      "cell_type": "markdown",
      "metadata": {
        "id": "OUmyDJbgPNba"
      },
      "source": [
        "## ***COLUMN FATAL***"
      ]
    },
    {
      "cell_type": "code",
      "metadata": {
        "colab": {
          "base_uri": "https://localhost:8080/"
        },
        "id": "h-wlrCL8OH4k",
        "outputId": "08117a5e-0db2-40b1-e885-d6e5b8501f4a"
      },
      "source": [
        "df[\"Fatal (Y/N)\"].value_counts()"
      ],
      "execution_count": null,
      "outputs": [
        {
          "output_type": "execute_result",
          "data": {
            "text/plain": [
              "N          3645\n",
              "Y           671\n",
              "UNKNOWN      45\n",
              " N            5\n",
              "Y x 2         1\n",
              "Nq            1\n",
              "N             1\n",
              "F             1\n",
              "2017          1\n",
              "Name: Fatal (Y/N), dtype: int64"
            ]
          },
          "metadata": {},
          "execution_count": 21
        }
      ]
    },
    {
      "cell_type": "code",
      "metadata": {
        "id": "FzBqcIiHOrgH"
      },
      "source": [
        "df[\"Fatal (Y/N)\"] = df[\"Fatal (Y/N)\"].str.strip()"
      ],
      "execution_count": null,
      "outputs": []
    },
    {
      "cell_type": "code",
      "metadata": {
        "colab": {
          "base_uri": "https://localhost:8080/"
        },
        "id": "UQjQvigdOtMB",
        "outputId": "ef800b4f-f5e9-4483-b254-71846bf905d8"
      },
      "source": [
        "def FATAL(f): \n",
        "    if f not in [\"N\", \"Y\"]: \n",
        "        return 'Unknown'\n",
        "    else: \n",
        "        return f\n",
        "    \n",
        "df[\"Fatal (Y/N)\"] = df[\"Fatal (Y/N)\"].apply(FATAL)\n",
        "df[\"Fatal (Y/N)\"].value_counts()"
      ],
      "execution_count": null,
      "outputs": [
        {
          "output_type": "execute_result",
          "data": {
            "text/plain": [
              "N          3651\n",
              "Y           671\n",
              "Unknown     461\n",
              "Name: Fatal (Y/N), dtype: int64"
            ]
          },
          "metadata": {},
          "execution_count": 23
        }
      ]
    },
    {
      "cell_type": "markdown",
      "metadata": {
        "id": "PvF_vdKBPw1B"
      },
      "source": [
        "## ***Column type***"
      ]
    },
    {
      "cell_type": "code",
      "metadata": {
        "colab": {
          "base_uri": "https://localhost:8080/"
        },
        "id": "rl68wJAHPnVj",
        "outputId": "55b4ac9b-a16f-4169-c602-e1eeb3027cf5"
      },
      "source": [
        "df[\"Type\"] = df[\"Type\"].str.strip() \n",
        "df[\"Type\"].value_counts()"
      ],
      "execution_count": null,
      "outputs": [
        {
          "output_type": "execute_result",
          "data": {
            "text/plain": [
              "Unprovoked             3480\n",
              "Provoked                483\n",
              "Invalid                 416\n",
              "Watercraft              305\n",
              "Sea Disaster             72\n",
              "Questionable             10\n",
              "Boat                      4\n",
              "Unconfirmed               1\n",
              "Unverified                1\n",
              "Under investigation       1\n",
              "Name: Type, dtype: int64"
            ]
          },
          "metadata": {},
          "execution_count": 24
        }
      ]
    },
    {
      "cell_type": "code",
      "metadata": {
        "id": "XRp6AWQyP1gi"
      },
      "source": [
        "df[\"Type\"] = df[\"Type\"].str.replace('Invalid', 'Unspecified').str.replace('Questionable', 'Unspecified').str.replace('Unconfirmed', 'Unspecified').str.replace('Unverified', 'Unspecified').str.replace('Under investigation', 'Unspecified')\n"
      ],
      "execution_count": null,
      "outputs": []
    },
    {
      "cell_type": "code",
      "metadata": {
        "id": "1MFFljgzR_ZR"
      },
      "source": [
        "df[\"Type\"] = df[\"Type\"].str.replace('Sea Disaster', 'Unprovoked')\n",
        "df[\"Type\"] = df[\"Type\"].str.replace('Boat', 'Provoked').str.replace('Watercraft','Provoked')"
      ],
      "execution_count": null,
      "outputs": []
    },
    {
      "cell_type": "code",
      "metadata": {
        "colab": {
          "base_uri": "https://localhost:8080/"
        },
        "id": "XoqBIGsySUXl",
        "outputId": "df316067-a1cc-4631-9fb7-90df3183bdb1"
      },
      "source": [
        "df[\"Type\"].value_counts()"
      ],
      "execution_count": null,
      "outputs": [
        {
          "output_type": "execute_result",
          "data": {
            "text/plain": [
              "Unprovoked     3552\n",
              "Provoked        792\n",
              "Unspecified     429\n",
              "Name: Type, dtype: int64"
            ]
          },
          "metadata": {},
          "execution_count": 27
        }
      ]
    },
    {
      "cell_type": "markdown",
      "metadata": {
        "id": "BVqaIEnVShU4"
      },
      "source": [
        "## ***Column time***"
      ]
    },
    {
      "cell_type": "code",
      "metadata": {
        "colab": {
          "base_uri": "https://localhost:8080/"
        },
        "id": "kZuUMiBZSYVG",
        "outputId": "2fc4fb72-fffd-4a0d-a150-68e36f8e902e"
      },
      "source": [
        "df['Time'] = df['Time'].str.strip()\n",
        "df['Time'] = df['Time'].str.lower()\n",
        "df.loc[df['Time'].notnull(),'Time'].sample(20)"
      ],
      "execution_count": null,
      "outputs": [
        {
          "output_type": "execute_result",
          "data": {
            "text/plain": [
              "1608             14h30\n",
              "4946         afternoon\n",
              "930              11h30\n",
              "2277             13h20\n",
              "4301    late afternoon\n",
              "2599             08h30\n",
              "2597             18h00\n",
              "2734             08h30\n",
              "1297            midday\n",
              "3974             14h00\n",
              "635              14h55\n",
              "1661         afternoon\n",
              "1950             11h30\n",
              "1032             15h20\n",
              "777              14h40\n",
              "3633         afternoon\n",
              "1916             18h00\n",
              "3118             18h45\n",
              "1006             12h00\n",
              "912      07h00 - 08h00\n",
              "Name: Time, dtype: object"
            ]
          },
          "metadata": {},
          "execution_count": 28
        }
      ]
    },
    {
      "cell_type": "code",
      "metadata": {
        "colab": {
          "base_uri": "https://localhost:8080/"
        },
        "id": "ohwKXgiXDyIX",
        "outputId": "a3fd4b40-30e1-48b3-f2c0-d7e4a04e7904"
      },
      "source": [
        "df.loc[(df['Time'].notnull()) & (df['Time'].str.fullmatch('[a-zA-Z]{3,}')),'Time'].value_counts()"
      ],
      "execution_count": null,
      "outputs": [
        {
          "output_type": "execute_result",
          "data": {
            "text/plain": [
              "afternoon    166\n",
              "morning       97\n",
              "night         46\n",
              "evening       25\n",
              "dusk          13\n",
              "midday         6\n",
              "sunset         6\n",
              "midnight       2\n",
              "dawn           2\n",
              "dark           1\n",
              "lunchtime      1\n",
              "nightfall      1\n",
              "daytime        1\n",
              "noon           1\n",
              "daybreak       1\n",
              "Name: Time, dtype: int64"
            ]
          },
          "metadata": {},
          "execution_count": 29
        }
      ]
    },
    {
      "cell_type": "code",
      "metadata": {
        "id": "VZrGN2jpETSZ"
      },
      "source": [
        "df['Time'].replace(['.*evening.*','.*dusk.*',\n",
        "                         '.*dark.*','.*night.*'],'night',regex=True,inplace=True)\n",
        "\n",
        "df['Time'].replace(['pm','p\\.m\\.','.*midday.*','.*sunset.*','.*lunchtime.*',\n",
        "                         '.*noon.*','.*daytime.*','.*afternoon.*'],'afternoon',regex=True,inplace=True)\n",
        "\n",
        "df['Time'].replace(['a\\.m\\.''am','.*dawn.*',\n",
        "                         '.*daybreak.*','.*morning.*'],'day-morning',regex=True,inplace=True)"
      ],
      "execution_count": null,
      "outputs": []
    },
    {
      "cell_type": "code",
      "metadata": {
        "colab": {
          "base_uri": "https://localhost:8080/"
        },
        "id": "d-rwgCY5EtG3",
        "outputId": "a7affc7d-7fec-4d50-cb64-2a2d2a38f066"
      },
      "source": [
        "df.loc[(df['Time'].notnull()) & (df['Time'].str.fullmatch('\\w{3,}')),'Time'].value_counts()"
      ],
      "execution_count": null,
      "outputs": [
        {
          "output_type": "execute_result",
          "data": {
            "text/plain": [
              "afternoon    224\n",
              "11h00        105\n",
              "night         98\n",
              "16h00         95\n",
              "14h00         93\n",
              "            ... \n",
              "13h06          1\n",
              "10h47          1\n",
              "15h53          1\n",
              "11h06          1\n",
              "17h42          1\n",
              "Name: Time, Length: 262, dtype: int64"
            ]
          },
          "metadata": {},
          "execution_count": 31
        }
      ]
    },
    {
      "cell_type": "code",
      "metadata": {
        "id": "-V6zmAoGFJyh"
      },
      "source": [
        "#grouping 06:00 to 11:59 as day-morning \n",
        "df['Time'].replace(to_replace='.*0[6-9].?\\d{2}.*',value='day-morning',regex=True,inplace=True)\n",
        "df['Time'].replace(to_replace='.*1[0-1].?\\d{2}.*',value='day-morning',regex=True,inplace=True)\n",
        "#grouping 12:00 to 17:59 as afternoon\n",
        "df['Time'].replace(to_replace='.*1[2-7].?\\d{2}.*',value='afternoon',regex=True,inplace=True)\n",
        "#grouping 18:00 to 23:59 as night\n",
        "df['Time'].replace(to_replace='.*1[8-9].?\\d{2}.*',value='night',regex=True,inplace=True)\n",
        "df['Time'].replace(to_replace='.*2[0-3].?\\d{2}.*',value='night',regex=True,inplace=True)\n",
        "#grouping 00:00 to 05:59 as night-morning\n",
        "df['Time'].replace(to_replace='.*0[0-5].?\\d{2}.*',value='night-morning',regex=True,inplace=True)"
      ],
      "execution_count": null,
      "outputs": []
    },
    {
      "cell_type": "code",
      "metadata": {
        "colab": {
          "base_uri": "https://localhost:8080/"
        },
        "id": "WVopoJwOFoY6",
        "outputId": "eda81de6-c025-450d-988f-1919bef39173"
      },
      "source": [
        "df[~df['Time'].isin(['day-morning','night-morning','night','afternoon'])]['Time'].count()"
      ],
      "execution_count": null,
      "outputs": [
        {
          "output_type": "execute_result",
          "data": {
            "text/plain": [
              "24"
            ]
          },
          "metadata": {},
          "execution_count": 33
        }
      ]
    },
    {
      "cell_type": "code",
      "metadata": {
        "id": "8bshvDhiF6bD"
      },
      "source": [
        "df.loc[~df['Time'].isin(['day-morning','night-morning','night','afternoon']),'Time'] = np.nan"
      ],
      "execution_count": null,
      "outputs": []
    },
    {
      "cell_type": "code",
      "metadata": {
        "colab": {
          "base_uri": "https://localhost:8080/"
        },
        "id": "u5DYknmVFwDB",
        "outputId": "f13d125f-583a-4403-d6e2-8b29ebf091c5"
      },
      "source": [
        "df['Time'].value_counts(dropna=False)"
      ],
      "execution_count": null,
      "outputs": [
        {
          "output_type": "execute_result",
          "data": {
            "text/plain": [
              "NaN              2131\n",
              "afternoon        1453\n",
              "day-morning       863\n",
              "night             305\n",
              "night-morning      31\n",
              "Name: Time, dtype: int64"
            ]
          },
          "metadata": {},
          "execution_count": 35
        }
      ]
    },
    {
      "cell_type": "code",
      "metadata": {
        "id": "29ZE5l0CY5oR"
      },
      "source": [
        "df['Time']= df['Time'].fillna(\"Unspecified\")"
      ],
      "execution_count": null,
      "outputs": []
    },
    {
      "cell_type": "markdown",
      "metadata": {
        "id": "nxDWQ4Zcabus"
      },
      "source": [
        "## ***Column Activity***"
      ]
    },
    {
      "cell_type": "code",
      "metadata": {
        "id": "flNBpHB8aigg"
      },
      "source": [
        "df['Activity'].replace(['JUMPING','STANDING','WADING','WALKING','PLAYING','SPLASHING','DANGLING FEET IN THE WATER'],'BATHING',inplace=True)\n",
        "df['Activity'].replace(['BODY SURFING','BOOGIE BOARDING','BODY-BOARDING'],'BODY BOARDING',inplace=True)\n",
        "df['Activity'].replace('.*SPEARFISHING.*','SPEARFISHING',regex=True,inplace=True)\n",
        "df['Activity'].replace('.*DIVING.*','DIVING',regex=True,inplace=True)\n",
        "df['Activity'].replace(['.*SURFING','KITE BOARDING','.*SKIING'],'SURFING',regex=True,inplace=True)\n",
        "df['Activity'].replace(['.*KAYAK.*','.*BOAT.*','CANOEING','ROWING','SAILING','FISHING FOR MACKEREL'],'ON BOAT',regex=True,inplace=True)\n",
        "df['Activity'].replace(['TREADING WATER','FLOATING ON HIS BACK'],'FLOATING',inplace=True)\n",
        "df['Activity'].replace(['.*OVERBOARD.*','JUMPED INTO THE WATER'],'FELL INTO THE WATER',regex=True,inplace=True)\n",
        "df['Activity'].replace('FREEDOM SWIMMING','SWIMMING',inplace=True)\n",
        "df['Activity'].replace('SURF FISHING','WADE FISHING',inplace=True)\n",
        "df['Activity'].replace(['SITTING ON SURFBOARD','SURFING (SITTING ON HIS BOARD)','PADDLE BOARDING','STAND-UP PADDLEBOARDING','PADDLING ON SURFBOARD'],'ON SURFBOARD',inplace=True)\n",
        "df['Activity'].replace(['.{,30} SHARK.','SHARK RELATED ACTIVITY.*'],'SHARK RELATED ACTIVITY',regex=True,inplace=True)"
      ],
      "execution_count": null,
      "outputs": []
    },
    {
      "cell_type": "code",
      "metadata": {
        "colab": {
          "base_uri": "https://localhost:8080/"
        },
        "id": "41MvOZINaygu",
        "outputId": "6513df59-ba28-40bc-ab82-78e5c228bdd5"
      },
      "source": [
        "mask =df['Activity'].value_counts().loc[df['Activity'].value_counts() < 5].index\n",
        "df.loc[df['Activity'].isin(mask),'Activity'] = 'OTHER'\n",
        "df['Activity'].value_counts().head(30)"
      ],
      "execution_count": null,
      "outputs": [
        {
          "output_type": "execute_result",
          "data": {
            "text/plain": [
              "OTHER              1136\n",
              "Surfing             971\n",
              "Swimming            634\n",
              "Fishing             345\n",
              "Spearfishing        205\n",
              "Wading              144\n",
              "Bathing             103\n",
              "Standing             94\n",
              "Diving               73\n",
              "Snorkeling           69\n",
              "Scuba diving         56\n",
              "Body boarding        48\n",
              "Body surfing         45\n",
              "Boogie boarding      39\n",
              "Swimming             36\n",
              "Kayaking             35\n",
              "Treading water       31\n",
              "Pearl diving         28\n",
              "Free diving          22\n",
              "Walking              16\n",
              "Boogie Boarding      16\n",
              "Surf fishing         14\n",
              "Windsurfing          13\n",
              "Surf-skiing          13\n",
              "Fishing              13\n",
              "Canoeing             13\n",
              "Shark fishing        12\n",
              "Rowing               12\n",
              "Surf skiing          12\n",
              "Fell overboard       11\n",
              "Name: Activity, dtype: int64"
            ]
          },
          "metadata": {},
          "execution_count": 38
        }
      ]
    },
    {
      "cell_type": "markdown",
      "metadata": {
        "id": "uziMVREbbCVL"
      },
      "source": [
        "## ***Column Species***"
      ]
    },
    {
      "cell_type": "code",
      "metadata": {
        "id": "vUQlmwhZbGGu"
      },
      "source": [
        "df['Species'] = df['Species'].str.upper()\n",
        "df['Species'].replace(['.*UNCONFIRMED.*','.* NOT CONFIRMED.*',\n",
        "                                '.*QUESTIONABLE.*', '.*FOOT SHARK.*',\n",
        "                                '.*SMALL SHARK.*', '.*FROM SHARK.*',\n",
        "                                '.*FEMALE SHARK.*', '.*LARGE SHARK.*',\n",
        "                                '.*BUT SHARK.*', '.*JUVENILE SHARK.*',\n",
        "                                '.*THE SHARK.*','.*TWO SHARK.*',\n",
        "                                '.*ANOTHER SHARK.*','.*KG SHARK.*',\n",
        "                                '.*SEVERAL SHARK.*','.*SAME SHARK.*',\n",
        "                                '.*GROUND SHARK.*'],\n",
        "                               np.nan,regex=True,inplace=True)"
      ],
      "execution_count": null,
      "outputs": []
    },
    {
      "cell_type": "code",
      "metadata": {
        "id": "DwY0CciubLhd"
      },
      "source": [
        "df['Species'] = df[df['Species'].notnull()]['Species'].str.findall('\\w{3,} SHARK')\n",
        "df['Species'] = df['Species'].apply(lambda x : ' OR '.join(x) if x == x else x)"
      ],
      "execution_count": null,
      "outputs": []
    },
    {
      "cell_type": "code",
      "metadata": {
        "id": "ws-jfnPGbQBp"
      },
      "source": [
        "df.loc[df['Species'] == df['Species'], 'Species']\n",
        "df.loc[df['Species'].notnull() & df['Species'].str.contains(' OR '),'Species'] = np.nan\n",
        "df.loc[df['Species'] == '','Species'] = np.nan"
      ],
      "execution_count": null,
      "outputs": []
    },
    {
      "cell_type": "code",
      "metadata": {
        "colab": {
          "base_uri": "https://localhost:8080/"
        },
        "id": "-cVtJKIQbQsz",
        "outputId": "cf0edfa3-02d7-4838-da21-d2d33a682286"
      },
      "source": [
        "df['Species'].value_counts().head(20)"
      ],
      "execution_count": null,
      "outputs": [
        {
          "output_type": "execute_result",
          "data": {
            "text/plain": [
              "WHITE SHARK          610\n",
              "TIGER SHARK          187\n",
              "BULL SHARK           118\n",
              "NURSE SHARK           91\n",
              "WHALER SHARK          66\n",
              "BLACKTIP SHARK        63\n",
              "SPINNER SHARK         47\n",
              "WOBBEGONG SHARK       46\n",
              "RAGGEDTOOTH SHARK     43\n",
              "MAKO SHARK            43\n",
              "HAMMERHEAD SHARK      37\n",
              "REEF SHARK            33\n",
              "BLUE SHARK            30\n",
              "SANDTIGER SHARK       22\n",
              "LEMON SHARK           21\n",
              "SAND SHARK            17\n",
              "ZAMBESI SHARK         14\n",
              "SEVENGILL SHARK       11\n",
              "DUSKY SHARK           10\n",
              "GILL SHARK             8\n",
              "Name: Species, dtype: int64"
            ]
          },
          "metadata": {},
          "execution_count": 42
        }
      ]
    },
    {
      "cell_type": "code",
      "metadata": {
        "colab": {
          "base_uri": "https://localhost:8080/"
        },
        "id": "OHHkI2-rY1Cq",
        "outputId": "b6f695d2-abdb-4050-96a2-9cea146741d6"
      },
      "source": [
        "df['Species'].isna().sum()"
      ],
      "execution_count": null,
      "outputs": [
        {
          "output_type": "execute_result",
          "data": {
            "text/plain": [
              "3165"
            ]
          },
          "metadata": {},
          "execution_count": 43
        }
      ]
    },
    {
      "cell_type": "code",
      "metadata": {
        "id": "8Hkx08MSZpXI"
      },
      "source": [
        "df['Species'].fillna('Unknown',inplace=True)"
      ],
      "execution_count": null,
      "outputs": []
    },
    {
      "cell_type": "markdown",
      "metadata": {
        "id": "3sRsR8zMT-ra"
      },
      "source": [
        "## ***Column Area***"
      ]
    },
    {
      "cell_type": "code",
      "metadata": {
        "colab": {
          "base_uri": "https://localhost:8080/"
        },
        "id": "Qca6YuUSSguf",
        "outputId": "83c36fed-0400-4fb5-ddbc-1fd910941fbc"
      },
      "source": [
        "df['Area'].value_counts()"
      ],
      "execution_count": null,
      "outputs": [
        {
          "output_type": "execute_result",
          "data": {
            "text/plain": [
              "Florida                                 1128\n",
              "New South Wales                          511\n",
              "Queensland                               339\n",
              "Hawaii                                   326\n",
              "California                               311\n",
              "                                        ... \n",
              "Argyll                                     1\n",
              "Isle of Man                                1\n",
              "Territory of Cocos (Keeling) Islands       1\n",
              "Ibaraki Prefecture                         1\n",
              "Bonin Islands                              1\n",
              "Name: Area, Length: 203, dtype: int64"
            ]
          },
          "metadata": {},
          "execution_count": 45
        }
      ]
    },
    {
      "cell_type": "code",
      "metadata": {
        "id": "2hV2_33pUHCb"
      },
      "source": [
        "df[\"Area\"]= df[\"Area\"].fillna(\"Unspecified\")"
      ],
      "execution_count": null,
      "outputs": []
    },
    {
      "cell_type": "code",
      "metadata": {
        "colab": {
          "base_uri": "https://localhost:8080/"
        },
        "id": "0S3K485ZUMd8",
        "outputId": "77687c16-51f3-47c8-b517-e8c710d5ca53"
      },
      "source": [
        "count = df['Area'].value_counts()\n",
        "count[count > 25]\n",
        "df=df[df['Area'].isin(count[count >25].index)]\n",
        "df[\"Area\"].value_counts()"
      ],
      "execution_count": null,
      "outputs": [
        {
          "output_type": "execute_result",
          "data": {
            "text/plain": [
              "Florida                  1128\n",
              "New South Wales           511\n",
              "Queensland                339\n",
              "Hawaii                    326\n",
              "California                311\n",
              "KwaZulu-Natal             217\n",
              "Western Australia         213\n",
              "Western Cape Province     195\n",
              "Eastern Cape Province     166\n",
              "South Carolina            165\n",
              "North Carolina            116\n",
              "South Australia           108\n",
              "Victoria                   92\n",
              "Texas                      77\n",
              "North Island               74\n",
              "Torres Strait              70\n",
              "New Jersey                 54\n",
              "Unspecified                52\n",
              "Tasmania                   44\n",
              "South Island               41\n",
              "New York                   33\n",
              "Oregon                     31\n",
              "Name: Area, dtype: int64"
            ]
          },
          "metadata": {},
          "execution_count": 47
        }
      ]
    },
    {
      "cell_type": "markdown",
      "metadata": {
        "id": "YxPaU67K8h17"
      },
      "source": [
        "## ***COLUMN DATE***"
      ]
    },
    {
      "cell_type": "code",
      "metadata": {
        "id": "GRtYdVAG8hEa",
        "colab": {
          "base_uri": "https://localhost:8080/"
        },
        "outputId": "19985000-7053-4a0d-e043-347eb931d703"
      },
      "source": [
        "def find_month(string):\n",
        "    months = [\"Jan\",\"Feb\",\"Mar\",\"Apr\",\"May\",\"Jun\",\"Jul\",\"Aug\",\"Sep\",\"Oct\",\"Nov\",\"Dec\"]\n",
        "    #If it founds the info of a month, it returns it as an output of this cleaning function\n",
        "    try:\n",
        "        for month in months:\n",
        "            if re.search(month,string):\n",
        "                return month\n",
        "    except TypeError:\n",
        "        pass\n",
        "\n",
        "df['Month'] = df['Date']    \n",
        "df['Month'] = df['Date'].apply(find_month)\n",
        "df['Month'].fillna(value=\"Unk\",inplace=True)"
      ],
      "execution_count": null,
      "outputs": [
        {
          "output_type": "stream",
          "name": "stderr",
          "text": [
            "/usr/local/lib/python3.7/dist-packages/ipykernel_launcher.py:11: SettingWithCopyWarning: \n",
            "A value is trying to be set on a copy of a slice from a DataFrame.\n",
            "Try using .loc[row_indexer,col_indexer] = value instead\n",
            "\n",
            "See the caveats in the documentation: https://pandas.pydata.org/pandas-docs/stable/user_guide/indexing.html#returning-a-view-versus-a-copy\n",
            "  # This is added back by InteractiveShellApp.init_path()\n",
            "/usr/local/lib/python3.7/dist-packages/ipykernel_launcher.py:12: SettingWithCopyWarning: \n",
            "A value is trying to be set on a copy of a slice from a DataFrame.\n",
            "Try using .loc[row_indexer,col_indexer] = value instead\n",
            "\n",
            "See the caveats in the documentation: https://pandas.pydata.org/pandas-docs/stable/user_guide/indexing.html#returning-a-view-versus-a-copy\n",
            "  if sys.path[0] == '':\n",
            "/usr/local/lib/python3.7/dist-packages/pandas/core/series.py:4536: SettingWithCopyWarning: \n",
            "A value is trying to be set on a copy of a slice from a DataFrame\n",
            "\n",
            "See the caveats in the documentation: https://pandas.pydata.org/pandas-docs/stable/user_guide/indexing.html#returning-a-view-versus-a-copy\n",
            "  downcast=downcast,\n"
          ]
        }
      ]
    },
    {
      "cell_type": "code",
      "metadata": {
        "colab": {
          "base_uri": "https://localhost:8080/"
        },
        "id": "diZkcFcSCuJv",
        "outputId": "3418e7e9-2b4d-49c1-ab21-ba05a097f85c"
      },
      "source": [
        "df['Date'].sample(20)"
      ],
      "execution_count": null,
      "outputs": [
        {
          "output_type": "execute_result",
          "data": {
            "text/plain": [
              "4731             27-Jun-1954\n",
              "6396             28-Mar-1855\n",
              "551              11-Feb-2017\n",
              "6575           Ca. 1010  BC \n",
              "5079               Fall 1943\n",
              "811              11-Apr-2015\n",
              "3302             20-Aug-1983\n",
              "750              22-Aug-2015\n",
              "21               21-Jul-2021\n",
              "6174    Reported 18-Dec-1883\n",
              "1330             15-Jan-2011\n",
              "2189             11-Nov-2002\n",
              "936              04-May-2014\n",
              "6105             22-Nov-1889\n",
              "528              17-Apr-2017\n",
              "2345             02-Apr-2001\n",
              "1580             09-Sep-2008\n",
              "907              14-Jul-2014\n",
              "4949                    1948\n",
              "4796             27-Jul-1952\n",
              "Name: Date, dtype: object"
            ]
          },
          "metadata": {},
          "execution_count": 49
        }
      ]
    },
    {
      "cell_type": "code",
      "metadata": {
        "id": "m4hUko1eC7J6",
        "colab": {
          "base_uri": "https://localhost:8080/"
        },
        "outputId": "cd2bf8e9-60ac-464e-fc03-3a7026846840"
      },
      "source": [
        "df['Date'] = df['Date'].str.upper()\n",
        "df['Date'] = df['Date'].str.lstrip('REPORTED ')\n",
        "df['Date'] = pd.to_datetime(df['Date'],errors='coerce', format='%d-%b-%Y')"
      ],
      "execution_count": null,
      "outputs": [
        {
          "output_type": "stream",
          "name": "stderr",
          "text": [
            "/usr/local/lib/python3.7/dist-packages/ipykernel_launcher.py:1: SettingWithCopyWarning: \n",
            "A value is trying to be set on a copy of a slice from a DataFrame.\n",
            "Try using .loc[row_indexer,col_indexer] = value instead\n",
            "\n",
            "See the caveats in the documentation: https://pandas.pydata.org/pandas-docs/stable/user_guide/indexing.html#returning-a-view-versus-a-copy\n",
            "  \"\"\"Entry point for launching an IPython kernel.\n",
            "/usr/local/lib/python3.7/dist-packages/ipykernel_launcher.py:2: SettingWithCopyWarning: \n",
            "A value is trying to be set on a copy of a slice from a DataFrame.\n",
            "Try using .loc[row_indexer,col_indexer] = value instead\n",
            "\n",
            "See the caveats in the documentation: https://pandas.pydata.org/pandas-docs/stable/user_guide/indexing.html#returning-a-view-versus-a-copy\n",
            "  \n",
            "/usr/local/lib/python3.7/dist-packages/ipykernel_launcher.py:3: SettingWithCopyWarning: \n",
            "A value is trying to be set on a copy of a slice from a DataFrame.\n",
            "Try using .loc[row_indexer,col_indexer] = value instead\n",
            "\n",
            "See the caveats in the documentation: https://pandas.pydata.org/pandas-docs/stable/user_guide/indexing.html#returning-a-view-versus-a-copy\n",
            "  This is separate from the ipykernel package so we can avoid doing imports until\n"
          ]
        }
      ]
    },
    {
      "cell_type": "code",
      "metadata": {
        "colab": {
          "base_uri": "https://localhost:8080/"
        },
        "id": "yYtDh806DOF9",
        "outputId": "66e1a344-9c25-4c16-c500-0422edc710e6"
      },
      "source": [
        "df.loc[df['Date'].notnull(),'Date'].sample(20)"
      ],
      "execution_count": null,
      "outputs": [
        {
          "output_type": "execute_result",
          "data": {
            "text/plain": [
              "5585   1923-12-02\n",
              "2373   2000-10-20\n",
              "4300   1961-03-30\n",
              "3967   1966-05-20\n",
              "2478   1999-09-10\n",
              "5582   1924-01-25\n",
              "4844   1951-01-03\n",
              "3460   1980-01-10\n",
              "1646   2008-04-20\n",
              "4984   1946-10-14\n",
              "2058   2004-04-05\n",
              "2119   2003-09-14\n",
              "1407   2010-04-28\n",
              "2860   1993-08-12\n",
              "340    2018-09-08\n",
              "4234   1962-01-14\n",
              "6190   1882-05-14\n",
              "5788   1910-12-23\n",
              "5948   1900-08-21\n",
              "984    2013-10-26\n",
              "Name: Date, dtype: datetime64[ns]"
            ]
          },
          "metadata": {},
          "execution_count": 51
        }
      ]
    },
    {
      "cell_type": "markdown",
      "metadata": {
        "id": "BXb_zkyoUjzv"
      },
      "source": [
        "## ***COLUMN YEAR***"
      ]
    },
    {
      "cell_type": "code",
      "metadata": {
        "colab": {
          "base_uri": "https://localhost:8080/"
        },
        "id": "nYjTL_UZUddg",
        "outputId": "1947d527-2a99-45ea-b14f-3051e4aa8357"
      },
      "source": [
        "df[df['Year'].notnull()]['Year'].value_counts().head(10)"
      ],
      "execution_count": null,
      "outputs": [
        {
          "output_type": "execute_result",
          "data": {
            "text/plain": [
              "2015.0    114\n",
              "2016.0     99\n",
              "2014.0     98\n",
              "2012.0     95\n",
              "2017.0     94\n",
              "2008.0     88\n",
              "2013.0     88\n",
              "2007.0     86\n",
              "2009.0     84\n",
              "2005.0     82\n",
              "Name: Year, dtype: int64"
            ]
          },
          "metadata": {},
          "execution_count": 52
        }
      ]
    },
    {
      "cell_type": "code",
      "metadata": {
        "colab": {
          "base_uri": "https://localhost:8080/"
        },
        "id": "vHOm4jPaVRgd",
        "outputId": "ff877414-30fe-4dcb-906b-b1caefb1a644"
      },
      "source": [
        "df['Year'].replace(0,np.nan,inplace=True)\n",
        "df['Year'] = pd.to_numeric(df['Year'], errors='coerce', downcast='integer')\n",
        "df['Year'].value_counts().head(20)"
      ],
      "execution_count": null,
      "outputs": [
        {
          "output_type": "execute_result",
          "data": {
            "text/plain": [
              "2015.0    114\n",
              "2016.0     99\n",
              "2014.0     98\n",
              "2012.0     95\n",
              "2017.0     94\n",
              "2008.0     88\n",
              "2013.0     88\n",
              "2007.0     86\n",
              "2009.0     84\n",
              "2005.0     82\n",
              "2018.0     81\n",
              "2006.0     80\n",
              "2019.0     80\n",
              "2011.0     78\n",
              "2000.0     74\n",
              "2020.0     74\n",
              "2001.0     73\n",
              "2003.0     72\n",
              "2021.0     67\n",
              "2004.0     64\n",
              "Name: Year, dtype: int64"
            ]
          },
          "metadata": {},
          "execution_count": 66
        }
      ]
    },
    {
      "cell_type": "markdown",
      "metadata": {
        "id": "P1cwk0ZXGckD"
      },
      "source": [
        "## ***Column Sex***"
      ]
    },
    {
      "cell_type": "code",
      "metadata": {
        "colab": {
          "base_uri": "https://localhost:8080/"
        },
        "id": "ZeUwZwiUGjG_",
        "outputId": "cb93c548-5bb0-4b82-ebaf-238bb44d3702"
      },
      "source": [
        "df['Sex'].value_counts()"
      ],
      "execution_count": null,
      "outputs": [
        {
          "output_type": "execute_result",
          "data": {
            "text/plain": [
              "M      3547\n",
              "F       499\n",
              "M         2\n",
              "N         1\n",
              "lli       1\n",
              "Name: Sex, dtype: int64"
            ]
          },
          "metadata": {},
          "execution_count": 54
        }
      ]
    },
    {
      "cell_type": "code",
      "metadata": {
        "colab": {
          "base_uri": "https://localhost:8080/"
        },
        "id": "WoVn6xT4Gq9H",
        "outputId": "9f9afd95-8308-48b7-9dea-f9857c415fad"
      },
      "source": [
        "df['Sex'] = df['Sex'].str.strip()\n",
        "df['Sex'].replace(['N','.','lli'],np.nan,inplace=True)\n",
        "df['Sex'].value_counts()"
      ],
      "execution_count": null,
      "outputs": [
        {
          "output_type": "execute_result",
          "data": {
            "text/plain": [
              "M    3549\n",
              "F     499\n",
              "Name: Sex, dtype: int64"
            ]
          },
          "metadata": {},
          "execution_count": 55
        }
      ]
    },
    {
      "cell_type": "markdown",
      "metadata": {
        "id": "pG4UdHvwd2Cx"
      },
      "source": [
        "## ***Column Activity***"
      ]
    },
    {
      "cell_type": "code",
      "metadata": {
        "colab": {
          "base_uri": "https://localhost:8080/"
        },
        "id": "w74sE4CTd68R",
        "outputId": "1eaddc1b-776b-4e64-b7d7-c4e964eee0af"
      },
      "source": [
        "df['Activity'] = df['Activity'].str.strip()\n",
        "df['Activity'] = df['Activity'].str.upper()\n",
        "df['Activity'].value_counts().head(20)"
      ],
      "execution_count": null,
      "outputs": [
        {
          "output_type": "execute_result",
          "data": {
            "text/plain": [
              "OTHER              1000\n",
              "SURFING             957\n",
              "SWIMMING            605\n",
              "FISHING             302\n",
              "SPEARFISHING        190\n",
              "WADING              134\n",
              "BATHING              92\n",
              "STANDING             88\n",
              "SNORKELING           64\n",
              "DIVING               61\n",
              "BODY BOARDING        54\n",
              "BOOGIE BOARDING      51\n",
              "SCUBA DIVING         50\n",
              "BODY SURFING         43\n",
              "KAYAKING             34\n",
              "TREADING WATER       30\n",
              "PEARL DIVING         26\n",
              "SURF SKIING          21\n",
              "FREE DIVING          21\n",
              "WALKING              16\n",
              "Name: Activity, dtype: int64"
            ]
          },
          "metadata": {},
          "execution_count": 56
        }
      ]
    },
    {
      "cell_type": "code",
      "metadata": {
        "id": "sAjQ3dp2eC5Z"
      },
      "source": [
        "df['Activity'].replace(['JUMPING','STANDING','WADING','WALKING','PLAYING','SPLASHING','DANGLING FEET IN THE WATER'],'BATHING',inplace=True)\n",
        "df['Activity'].replace(['BODY SURFING','BOOGIE BOARDING','BODY-BOARDING'],'BODY BOARDING',inplace=True)\n",
        "df['Activity'].replace('.*SPEARFISHING.*','SPEARFISHING',regex=True,inplace=True)\n",
        "df['Activity'].replace('.*DIVING.*','DIVING',regex=True,inplace=True)\n",
        "df['Activity'].replace(['.*SURFING','KITE BOARDING','.*SKIING'],'SURFING',regex=True,inplace=True)\n",
        "df['Activity'].replace(['.*KAYAK.*','.*BOAT.*','CANOEING','ROWING','SAILING','FISHING FOR MACKEREL'],'ON BOAT',regex=True,inplace=True)\n",
        "df['Activity'].replace(['TREADING WATER','FLOATING ON HIS BACK'],'FLOATING',inplace=True)\n",
        "df['Activity'].replace(['.*OVERBOARD.*','JUMPED INTO THE WATER'],'FELL INTO THE WATER',regex=True,inplace=True)\n",
        "df['Activity'].replace('FREEDOM SWIMMING','SWIMMING',inplace=True)\n",
        "df['Activity'].replace('SURF FISHING','WADE FISHING',inplace=True)\n",
        "df['Activity'].replace(['SITTING ON SURFBOARD','SURFING (SITTING ON HIS BOARD)','PADDLE BOARDING','STAND-UP PADDLEBOARDING','PADDLING ON SURFBOARD'],'ON SURFBOARD',inplace=True)\n",
        "df['Activity'].replace(['.{,30} SHARK.','SHARK RELATED ACTIVITY.*'],'SHARK RELATED ACTIVITY',regex=True,inplace=True)"
      ],
      "execution_count": null,
      "outputs": []
    },
    {
      "cell_type": "code",
      "metadata": {
        "colab": {
          "base_uri": "https://localhost:8080/"
        },
        "id": "-kZ8CJedlEkG",
        "outputId": "eb62a582-24a8-44cb-bfcc-d9d17b6af72b"
      },
      "source": [
        "mask = df['Activity'].value_counts().loc[df['Activity'].value_counts() < 5].index\n",
        "df.loc[df['Activity'].isin(mask),'Activity'] = 'OTHER'\n",
        "df['Activity'].value_counts().head(30)"
      ],
      "execution_count": null,
      "outputs": [
        {
          "output_type": "execute_result",
          "data": {
            "text/plain": [
              "SURFING                   1009\n",
              "OTHER                     1000\n",
              "SWIMMING                   605\n",
              "BATHING                    338\n",
              "FISHING                    302\n",
              "SPEARFISHING               193\n",
              "DIVING                     178\n",
              "BODY BOARDING              148\n",
              "ON BOAT                     80\n",
              "SNORKELING                  64\n",
              "FLOATING                    46\n",
              "ON SURFBOARD                35\n",
              "FELL INTO THE WATER         16\n",
              "WADE FISHING                14\n",
              "SHARK FISHING               10\n",
              "SHARK RELATED ACTIVITY       6\n",
              "Name: Activity, dtype: int64"
            ]
          },
          "metadata": {},
          "execution_count": 58
        }
      ]
    },
    {
      "cell_type": "markdown",
      "metadata": {
        "id": "lJ5lCbMhCdo1"
      },
      "source": [
        "## ***Exporting***"
      ]
    },
    {
      "cell_type": "code",
      "metadata": {
        "colab": {
          "base_uri": "https://localhost:8080/",
          "height": 572
        },
        "id": "zsk-x3jUHaKc",
        "outputId": "ce10945c-a51d-4324-c73c-218542566b1e"
      },
      "source": [
        "df.drop(columns=['Location','Case Number'])"
      ],
      "execution_count": null,
      "outputs": [
        {
          "output_type": "execute_result",
          "data": {
            "text/html": [
              "<div>\n",
              "<style scoped>\n",
              "    .dataframe tbody tr th:only-of-type {\n",
              "        vertical-align: middle;\n",
              "    }\n",
              "\n",
              "    .dataframe tbody tr th {\n",
              "        vertical-align: top;\n",
              "    }\n",
              "\n",
              "    .dataframe thead th {\n",
              "        text-align: right;\n",
              "    }\n",
              "</style>\n",
              "<table border=\"1\" class=\"dataframe\">\n",
              "  <thead>\n",
              "    <tr style=\"text-align: right;\">\n",
              "      <th></th>\n",
              "      <th>Date</th>\n",
              "      <th>Year</th>\n",
              "      <th>Sex</th>\n",
              "      <th>Type</th>\n",
              "      <th>Species</th>\n",
              "      <th>Country</th>\n",
              "      <th>Area</th>\n",
              "      <th>Activity</th>\n",
              "      <th>Age</th>\n",
              "      <th>Fatal (Y/N)</th>\n",
              "      <th>Time</th>\n",
              "      <th>Month</th>\n",
              "    </tr>\n",
              "  </thead>\n",
              "  <tbody>\n",
              "    <tr>\n",
              "      <th>1</th>\n",
              "      <td>2021-09-09</td>\n",
              "      <td>2021.0</td>\n",
              "      <td>M</td>\n",
              "      <td>Unprovoked</td>\n",
              "      <td>Unknown</td>\n",
              "      <td>USA</td>\n",
              "      <td>Florida</td>\n",
              "      <td>SURFING</td>\n",
              "      <td>NaN</td>\n",
              "      <td>N</td>\n",
              "      <td>afternoon</td>\n",
              "      <td>Sep</td>\n",
              "    </tr>\n",
              "    <tr>\n",
              "      <th>2</th>\n",
              "      <td>2021-09-05</td>\n",
              "      <td>2021.0</td>\n",
              "      <td>M</td>\n",
              "      <td>Unprovoked</td>\n",
              "      <td>Unknown</td>\n",
              "      <td>AUSTRALIA</td>\n",
              "      <td>New South Wales</td>\n",
              "      <td>SURFING</td>\n",
              "      <td>31.0</td>\n",
              "      <td>Y</td>\n",
              "      <td>day-morning</td>\n",
              "      <td>Sep</td>\n",
              "    </tr>\n",
              "    <tr>\n",
              "      <th>4</th>\n",
              "      <td>2021-08-28</td>\n",
              "      <td>2021.0</td>\n",
              "      <td>M</td>\n",
              "      <td>Unprovoked</td>\n",
              "      <td>Unknown</td>\n",
              "      <td>USA</td>\n",
              "      <td>Texas</td>\n",
              "      <td>BODY BOARDING</td>\n",
              "      <td>NaN</td>\n",
              "      <td>N</td>\n",
              "      <td>day-morning</td>\n",
              "      <td>Aug</td>\n",
              "    </tr>\n",
              "    <tr>\n",
              "      <th>6</th>\n",
              "      <td>2021-08-21</td>\n",
              "      <td>2021.0</td>\n",
              "      <td>M</td>\n",
              "      <td>Unprovoked</td>\n",
              "      <td>BULL SHARK</td>\n",
              "      <td>USA</td>\n",
              "      <td>Florida</td>\n",
              "      <td>SURFING</td>\n",
              "      <td>41.0</td>\n",
              "      <td>N</td>\n",
              "      <td>day-morning</td>\n",
              "      <td>Aug</td>\n",
              "    </tr>\n",
              "    <tr>\n",
              "      <th>8</th>\n",
              "      <td>2021-08-07</td>\n",
              "      <td>2021.0</td>\n",
              "      <td>M</td>\n",
              "      <td>Provoked</td>\n",
              "      <td>Unknown</td>\n",
              "      <td>AUSTRALIA</td>\n",
              "      <td>Queensland</td>\n",
              "      <td>OTHER</td>\n",
              "      <td>NaN</td>\n",
              "      <td>N</td>\n",
              "      <td>Unspecified</td>\n",
              "      <td>Aug</td>\n",
              "    </tr>\n",
              "    <tr>\n",
              "      <th>...</th>\n",
              "      <td>...</td>\n",
              "      <td>...</td>\n",
              "      <td>...</td>\n",
              "      <td>...</td>\n",
              "      <td>...</td>\n",
              "      <td>...</td>\n",
              "      <td>...</td>\n",
              "      <td>...</td>\n",
              "      <td>...</td>\n",
              "      <td>...</td>\n",
              "      <td>...</td>\n",
              "      <td>...</td>\n",
              "    </tr>\n",
              "    <tr>\n",
              "      <th>6693</th>\n",
              "      <td>NaT</td>\n",
              "      <td>NaN</td>\n",
              "      <td>M</td>\n",
              "      <td>Unprovoked</td>\n",
              "      <td>Unknown</td>\n",
              "      <td>AUSTRALIA</td>\n",
              "      <td>Unspecified</td>\n",
              "      <td>FISHING</td>\n",
              "      <td>NaN</td>\n",
              "      <td>Y</td>\n",
              "      <td>Unspecified</td>\n",
              "      <td>Unk</td>\n",
              "    </tr>\n",
              "    <tr>\n",
              "      <th>6694</th>\n",
              "      <td>NaT</td>\n",
              "      <td>NaN</td>\n",
              "      <td>M</td>\n",
              "      <td>Unprovoked</td>\n",
              "      <td>Unknown</td>\n",
              "      <td>AUSTRALIA</td>\n",
              "      <td>New South Wales</td>\n",
              "      <td>SWIMMING</td>\n",
              "      <td>NaN</td>\n",
              "      <td>Y</td>\n",
              "      <td>Unspecified</td>\n",
              "      <td>Unk</td>\n",
              "    </tr>\n",
              "    <tr>\n",
              "      <th>6695</th>\n",
              "      <td>NaT</td>\n",
              "      <td>NaN</td>\n",
              "      <td>M</td>\n",
              "      <td>Unprovoked</td>\n",
              "      <td>Unknown</td>\n",
              "      <td>AUSTRALIA</td>\n",
              "      <td>Western Australia</td>\n",
              "      <td>DIVING</td>\n",
              "      <td>NaN</td>\n",
              "      <td>Y</td>\n",
              "      <td>Unspecified</td>\n",
              "      <td>Unk</td>\n",
              "    </tr>\n",
              "    <tr>\n",
              "      <th>6696</th>\n",
              "      <td>NaT</td>\n",
              "      <td>NaN</td>\n",
              "      <td>M</td>\n",
              "      <td>Unprovoked</td>\n",
              "      <td>Unknown</td>\n",
              "      <td>AUSTRALIA</td>\n",
              "      <td>Western Australia</td>\n",
              "      <td>DIVING</td>\n",
              "      <td>NaN</td>\n",
              "      <td>Y</td>\n",
              "      <td>Unspecified</td>\n",
              "      <td>Unk</td>\n",
              "    </tr>\n",
              "    <tr>\n",
              "      <th>6697</th>\n",
              "      <td>NaT</td>\n",
              "      <td>NaN</td>\n",
              "      <td>M</td>\n",
              "      <td>Unprovoked</td>\n",
              "      <td>Unknown</td>\n",
              "      <td>USA</td>\n",
              "      <td>North Carolina</td>\n",
              "      <td>SWIMMING</td>\n",
              "      <td>NaN</td>\n",
              "      <td>Y</td>\n",
              "      <td>Unspecified</td>\n",
              "      <td>Unk</td>\n",
              "    </tr>\n",
              "  </tbody>\n",
              "</table>\n",
              "<p>4363 rows × 12 columns</p>\n",
              "</div>"
            ],
            "text/plain": [
              "           Date    Year Sex        Type  ...   Age Fatal (Y/N)         Time Month\n",
              "1    2021-09-09  2021.0   M  Unprovoked  ...   NaN           N    afternoon   Sep\n",
              "2    2021-09-05  2021.0   M  Unprovoked  ...  31.0           Y  day-morning   Sep\n",
              "4    2021-08-28  2021.0   M  Unprovoked  ...   NaN           N  day-morning   Aug\n",
              "6    2021-08-21  2021.0   M  Unprovoked  ...  41.0           N  day-morning   Aug\n",
              "8    2021-08-07  2021.0   M    Provoked  ...   NaN           N  Unspecified   Aug\n",
              "...         ...     ...  ..         ...  ...   ...         ...          ...   ...\n",
              "6693        NaT     NaN   M  Unprovoked  ...   NaN           Y  Unspecified   Unk\n",
              "6694        NaT     NaN   M  Unprovoked  ...   NaN           Y  Unspecified   Unk\n",
              "6695        NaT     NaN   M  Unprovoked  ...   NaN           Y  Unspecified   Unk\n",
              "6696        NaT     NaN   M  Unprovoked  ...   NaN           Y  Unspecified   Unk\n",
              "6697        NaT     NaN   M  Unprovoked  ...   NaN           Y  Unspecified   Unk\n",
              "\n",
              "[4363 rows x 12 columns]"
            ]
          },
          "metadata": {},
          "execution_count": 59
        }
      ]
    },
    {
      "cell_type": "code",
      "metadata": {
        "colab": {
          "base_uri": "https://localhost:8080/",
          "height": 796
        },
        "id": "7JB9_ODjVzT6",
        "outputId": "0aff31cc-924e-4ac0-ee27-16c8c2f7efcc"
      },
      "source": [
        "dfinal = df.sort_values('Country',ascending=True)\n",
        "\n",
        "display(dfinal)"
      ],
      "execution_count": null,
      "outputs": [
        {
          "output_type": "display_data",
          "data": {
            "text/html": [
              "<div>\n",
              "<style scoped>\n",
              "    .dataframe tbody tr th:only-of-type {\n",
              "        vertical-align: middle;\n",
              "    }\n",
              "\n",
              "    .dataframe tbody tr th {\n",
              "        vertical-align: top;\n",
              "    }\n",
              "\n",
              "    .dataframe thead th {\n",
              "        text-align: right;\n",
              "    }\n",
              "</style>\n",
              "<table border=\"1\" class=\"dataframe\">\n",
              "  <thead>\n",
              "    <tr style=\"text-align: right;\">\n",
              "      <th></th>\n",
              "      <th>Case Number</th>\n",
              "      <th>Date</th>\n",
              "      <th>Year</th>\n",
              "      <th>Sex</th>\n",
              "      <th>Type</th>\n",
              "      <th>Species</th>\n",
              "      <th>Country</th>\n",
              "      <th>Area</th>\n",
              "      <th>Location</th>\n",
              "      <th>Activity</th>\n",
              "      <th>Age</th>\n",
              "      <th>Fatal (Y/N)</th>\n",
              "      <th>Time</th>\n",
              "      <th>Month</th>\n",
              "    </tr>\n",
              "  </thead>\n",
              "  <tbody>\n",
              "    <tr>\n",
              "      <th>1544</th>\n",
              "      <td>2009.01.18</td>\n",
              "      <td>2009-01-18</td>\n",
              "      <td>2009.0</td>\n",
              "      <td>M</td>\n",
              "      <td>Provoked</td>\n",
              "      <td>WHITE SHARK</td>\n",
              "      <td>AUSTRALIA</td>\n",
              "      <td>Victoria</td>\n",
              "      <td>Off Tower Hill</td>\n",
              "      <td>FISHING</td>\n",
              "      <td>NaN</td>\n",
              "      <td>N</td>\n",
              "      <td>day-morning</td>\n",
              "      <td>Jan</td>\n",
              "    </tr>\n",
              "    <tr>\n",
              "      <th>5452</th>\n",
              "      <td>1929.12.03.R</td>\n",
              "      <td>1929-12-03</td>\n",
              "      <td>1929.0</td>\n",
              "      <td>M</td>\n",
              "      <td>Unprovoked</td>\n",
              "      <td>Unknown</td>\n",
              "      <td>AUSTRALIA</td>\n",
              "      <td>Queensland</td>\n",
              "      <td>Townsville</td>\n",
              "      <td>NaN</td>\n",
              "      <td>NaN</td>\n",
              "      <td>Y</td>\n",
              "      <td>Unspecified</td>\n",
              "      <td>Dec</td>\n",
              "    </tr>\n",
              "    <tr>\n",
              "      <th>5455</th>\n",
              "      <td>1929.10.20</td>\n",
              "      <td>1929-10-20</td>\n",
              "      <td>1929.0</td>\n",
              "      <td>M</td>\n",
              "      <td>Unprovoked</td>\n",
              "      <td>Unknown</td>\n",
              "      <td>AUSTRALIA</td>\n",
              "      <td>Torres Strait</td>\n",
              "      <td>Near Badu Island</td>\n",
              "      <td>DIVING</td>\n",
              "      <td>NaN</td>\n",
              "      <td>N</td>\n",
              "      <td>Unspecified</td>\n",
              "      <td>Oct</td>\n",
              "    </tr>\n",
              "    <tr>\n",
              "      <th>5457</th>\n",
              "      <td>1929.09.01</td>\n",
              "      <td>1929-09-01</td>\n",
              "      <td>1929.0</td>\n",
              "      <td>M</td>\n",
              "      <td>Unprovoked</td>\n",
              "      <td>Unknown</td>\n",
              "      <td>AUSTRALIA</td>\n",
              "      <td>Queensland</td>\n",
              "      <td>Ross River, Townsville</td>\n",
              "      <td>OTHER</td>\n",
              "      <td>42.0</td>\n",
              "      <td>Y</td>\n",
              "      <td>Unspecified</td>\n",
              "      <td>Sep</td>\n",
              "    </tr>\n",
              "    <tr>\n",
              "      <th>4428</th>\n",
              "      <td>1959.12.07</td>\n",
              "      <td>1959-12-07</td>\n",
              "      <td>1959.0</td>\n",
              "      <td>M</td>\n",
              "      <td>Unspecified</td>\n",
              "      <td>Unknown</td>\n",
              "      <td>AUSTRALIA</td>\n",
              "      <td>South Australia</td>\n",
              "      <td>Laura Bay</td>\n",
              "      <td>SPEARFISHING</td>\n",
              "      <td>NaN</td>\n",
              "      <td>Unknown</td>\n",
              "      <td>Unspecified</td>\n",
              "      <td>Dec</td>\n",
              "    </tr>\n",
              "    <tr>\n",
              "      <th>...</th>\n",
              "      <td>...</td>\n",
              "      <td>...</td>\n",
              "      <td>...</td>\n",
              "      <td>...</td>\n",
              "      <td>...</td>\n",
              "      <td>...</td>\n",
              "      <td>...</td>\n",
              "      <td>...</td>\n",
              "      <td>...</td>\n",
              "      <td>...</td>\n",
              "      <td>...</td>\n",
              "      <td>...</td>\n",
              "      <td>...</td>\n",
              "      <td>...</td>\n",
              "    </tr>\n",
              "    <tr>\n",
              "      <th>2406</th>\n",
              "      <td>2000.07.22</td>\n",
              "      <td>2000-07-22</td>\n",
              "      <td>2000.0</td>\n",
              "      <td>F</td>\n",
              "      <td>Unprovoked</td>\n",
              "      <td>NURSE SHARK</td>\n",
              "      <td>USA</td>\n",
              "      <td>Florida</td>\n",
              "      <td>Big Pine Key, Monroe County</td>\n",
              "      <td>SNORKELING</td>\n",
              "      <td>45.0</td>\n",
              "      <td>N</td>\n",
              "      <td>Unspecified</td>\n",
              "      <td>Jul</td>\n",
              "    </tr>\n",
              "    <tr>\n",
              "      <th>2407</th>\n",
              "      <td>2000.07.17</td>\n",
              "      <td>2000-07-17</td>\n",
              "      <td>2000.0</td>\n",
              "      <td>M</td>\n",
              "      <td>Unprovoked</td>\n",
              "      <td>Unknown</td>\n",
              "      <td>USA</td>\n",
              "      <td>North Carolina</td>\n",
              "      <td>Oceanic Pier, Wrightsville Beach, New Hanover ...</td>\n",
              "      <td>SURFING</td>\n",
              "      <td>16.0</td>\n",
              "      <td>N</td>\n",
              "      <td>Unspecified</td>\n",
              "      <td>Jul</td>\n",
              "    </tr>\n",
              "    <tr>\n",
              "      <th>2408</th>\n",
              "      <td>2000.07.16.b</td>\n",
              "      <td>2000-07-16</td>\n",
              "      <td>2000.0</td>\n",
              "      <td>M</td>\n",
              "      <td>Unprovoked</td>\n",
              "      <td>COLORED SHARK</td>\n",
              "      <td>USA</td>\n",
              "      <td>North Carolina</td>\n",
              "      <td>Holden Beach, Brunswick County</td>\n",
              "      <td>SURFING</td>\n",
              "      <td>14.0</td>\n",
              "      <td>N</td>\n",
              "      <td>Unspecified</td>\n",
              "      <td>Jul</td>\n",
              "    </tr>\n",
              "    <tr>\n",
              "      <th>2473</th>\n",
              "      <td>1999.10.01</td>\n",
              "      <td>1999-10-01</td>\n",
              "      <td>1999.0</td>\n",
              "      <td>M</td>\n",
              "      <td>Unprovoked</td>\n",
              "      <td>TIGER SHARK</td>\n",
              "      <td>USA</td>\n",
              "      <td>Hawaii</td>\n",
              "      <td>Old Kona Airport State Park</td>\n",
              "      <td>OTHER</td>\n",
              "      <td>16.0</td>\n",
              "      <td>N</td>\n",
              "      <td>night</td>\n",
              "      <td>Oct</td>\n",
              "    </tr>\n",
              "    <tr>\n",
              "      <th>6697</th>\n",
              "      <td>ND.0003</td>\n",
              "      <td>NaT</td>\n",
              "      <td>NaN</td>\n",
              "      <td>M</td>\n",
              "      <td>Unprovoked</td>\n",
              "      <td>Unknown</td>\n",
              "      <td>USA</td>\n",
              "      <td>North Carolina</td>\n",
              "      <td>Ocracoke Inlet</td>\n",
              "      <td>SWIMMING</td>\n",
              "      <td>NaN</td>\n",
              "      <td>Y</td>\n",
              "      <td>Unspecified</td>\n",
              "      <td>Unk</td>\n",
              "    </tr>\n",
              "  </tbody>\n",
              "</table>\n",
              "<p>4363 rows × 14 columns</p>\n",
              "</div>"
            ],
            "text/plain": [
              "       Case Number       Date    Year Sex  ...   Age Fatal (Y/N)         Time Month\n",
              "1544    2009.01.18 2009-01-18  2009.0   M  ...   NaN           N  day-morning   Jan\n",
              "5452  1929.12.03.R 1929-12-03  1929.0   M  ...   NaN           Y  Unspecified   Dec\n",
              "5455    1929.10.20 1929-10-20  1929.0   M  ...   NaN           N  Unspecified   Oct\n",
              "5457    1929.09.01 1929-09-01  1929.0   M  ...  42.0           Y  Unspecified   Sep\n",
              "4428    1959.12.07 1959-12-07  1959.0   M  ...   NaN     Unknown  Unspecified   Dec\n",
              "...            ...        ...     ...  ..  ...   ...         ...          ...   ...\n",
              "2406    2000.07.22 2000-07-22  2000.0   F  ...  45.0           N  Unspecified   Jul\n",
              "2407    2000.07.17 2000-07-17  2000.0   M  ...  16.0           N  Unspecified   Jul\n",
              "2408  2000.07.16.b 2000-07-16  2000.0   M  ...  14.0           N  Unspecified   Jul\n",
              "2473    1999.10.01 1999-10-01  1999.0   M  ...  16.0           N        night   Oct\n",
              "6697       ND.0003        NaT     NaN   M  ...   NaN           Y  Unspecified   Unk\n",
              "\n",
              "[4363 rows x 14 columns]"
            ]
          },
          "metadata": {}
        }
      ]
    },
    {
      "cell_type": "code",
      "metadata": {
        "id": "bPg_2BbnWYJf"
      },
      "source": [
        "export_csv = dfinal.to_csv ('/content/drive/MyDrive/Shark attack/sharkfinal.csv', index=None, header=True)"
      ],
      "execution_count": null,
      "outputs": []
    },
    {
      "cell_type": "markdown",
      "metadata": {
        "id": "w4G2l-R-b_Q_"
      },
      "source": [
        "# ***ANALYSIS***"
      ]
    },
    {
      "cell_type": "code",
      "metadata": {
        "colab": {
          "base_uri": "https://localhost:8080/",
          "height": 265
        },
        "id": "9OZXFwrKSwKh",
        "outputId": "e914e6a0-6cf4-40fb-e9b4-c873b3b28993"
      },
      "source": [
        "df['Type'].value_counts().head(3).plot.pie(autopct='%1.2f%%')"
      ],
      "execution_count": null,
      "outputs": [
        {
          "output_type": "execute_result",
          "data": {
            "text/plain": [
              "<matplotlib.axes._subplots.AxesSubplot at 0x7f1d1d5c6890>"
            ]
          },
          "metadata": {},
          "execution_count": 62
        },
        {
          "output_type": "display_data",
          "data": {
            "image/png": "[encoded data removed]",
            "text/plain": [
              "<Figure size 432x288 with 1 Axes>"
            ]
          },
          "metadata": {}
        }
      ]
    },
    {
      "cell_type": "code",
      "metadata": {
        "id": "xPl3IWFhmkQq"
      },
      "source": [
        "from matplotlib import cm\n",
        "import matplotlib.pyplot as plt\n",
        "import seaborn as sns"
      ],
      "execution_count": null,
      "outputs": []
    },
    {
      "cell_type": "code",
      "metadata": {
        "id": "-kYSJ3maoels"
      },
      "source": [
        "def save_viz(barchart):\n",
        "    os.chdir('/content/sample_data')\n",
        "    fig = barchart.get_figure()\n",
        "    fig.savefig(title+ '.png')\n",
        "    plt.show()"
      ],
      "execution_count": null,
      "outputs": []
    },
    {
      "cell_type": "code",
      "metadata": {
        "colab": {
          "base_uri": "https://localhost:8080/",
          "height": 417
        },
        "id": "rOgoMB4GoRUA",
        "outputId": "d62b18c8-ddd5-4967-955b-fda997722406"
      },
      "source": [
        "sharks_country_chart=dfinal['Country'].value_counts().plot.bar(fontsize=10, figsize=(15, 5)).set_title('Top 10 countries per total number of shark df', fontsize=15)\n",
        "\n",
        "title='Top 10 countries per total number of shark df'\n",
        "save_viz(sharks_country_chart)"
      ],
      "execution_count": null,
      "outputs": [
        {
          "output_type": "display_data",
          "data": {
            "image/png": "[encoded data removed]",
            "text/plain": [
              "<Figure size 1080x360 with 1 Axes>"
            ]
          },
          "metadata": {
            "needs_background": "light"
          }
        }
      ]
    }
  ]
}