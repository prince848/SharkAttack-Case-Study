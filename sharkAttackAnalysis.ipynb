{
  "nbformat": 4,
  "nbformat_minor": 0,
  "metadata": {
    "colab": {
      "name": "sharkAttackAnalysis.ipynb",
      "provenance": [],
      "collapsed_sections": [],
      "include_colab_link": true
    },
    "kernelspec": {
      "name": "python3",
      "display_name": "Python 3"
    },
    "language_info": {
      "name": "python"
    }
  },
  "cells": [
    {
      "cell_type": "markdown",
      "metadata": {
        "id": "view-in-github",
        "colab_type": "text"
      },
      "source": [
        "<a href=\"https://colab.research.google.com/github/prince848/SharkAttack-Case-Study/blob/main/sharkAttackAnalysis.ipynb\" target=\"_parent\"><img src=\"https://colab.research.google.com/assets/colab-badge.svg\" alt=\"Open In Colab\"/></a>"
      ]
    },
    {
      "cell_type": "code",
      "metadata": {
        "id": "M-G8nT0uflzq"
      },
      "source": [
        "import pandas as pd\n",
        "import numpy as np\n",
        "import matplotlib.pyplot as plt\n",
        "from matplotlib import cm\n",
        "import seaborn as sns"
      ],
      "execution_count": 29,
      "outputs": []
    },
    {
      "cell_type": "code",
      "metadata": {
        "colab": {
          "base_uri": "https://localhost:8080/",
          "height": 813
        },
        "id": "IaBYnnkgf6oG",
        "outputId": "76d0a8ad-14f8-43c8-c31f-932bdce1b63e"
      },
      "source": [
        "import os\n",
        "shark = pd.read_csv(\"/content/sample_data/sharkfinal.csv\", encoding = \"latin-1\")\n",
        "print(shark.shape)\n",
        "shark"
      ],
      "execution_count": 28,
      "outputs": [
        {
          "output_type": "stream",
          "name": "stdout",
          "text": [
            "(4363, 14)\n"
          ]
        },
        {
          "output_type": "execute_result",
          "data": {
            "text/html": [
              "<div>\n",
              "<style scoped>\n",
              "    .dataframe tbody tr th:only-of-type {\n",
              "        vertical-align: middle;\n",
              "    }\n",
              "\n",
              "    .dataframe tbody tr th {\n",
              "        vertical-align: top;\n",
              "    }\n",
              "\n",
              "    .dataframe thead th {\n",
              "        text-align: right;\n",
              "    }\n",
              "</style>\n",
              "<table border=\"1\" class=\"dataframe\">\n",
              "  <thead>\n",
              "    <tr style=\"text-align: right;\">\n",
              "      <th></th>\n",
              "      <th>Case Number</th>\n",
              "      <th>Date</th>\n",
              "      <th>Year</th>\n",
              "      <th>Sex</th>\n",
              "      <th>Type</th>\n",
              "      <th>Species</th>\n",
              "      <th>Country</th>\n",
              "      <th>Area</th>\n",
              "      <th>Location</th>\n",
              "      <th>Activity</th>\n",
              "      <th>Age</th>\n",
              "      <th>Fatal (Y/N)</th>\n",
              "      <th>Time</th>\n",
              "      <th>Month</th>\n",
              "    </tr>\n",
              "  </thead>\n",
              "  <tbody>\n",
              "    <tr>\n",
              "      <th>0</th>\n",
              "      <td>2009.01.18</td>\n",
              "      <td>2009-01-18</td>\n",
              "      <td>2009.0</td>\n",
              "      <td>M</td>\n",
              "      <td>Provoked</td>\n",
              "      <td>WHITE SHARK</td>\n",
              "      <td>AUSTRALIA</td>\n",
              "      <td>Victoria</td>\n",
              "      <td>Off Tower Hill</td>\n",
              "      <td>FISHING</td>\n",
              "      <td>NaN</td>\n",
              "      <td>N</td>\n",
              "      <td>day-morning</td>\n",
              "      <td>Jan</td>\n",
              "    </tr>\n",
              "    <tr>\n",
              "      <th>1</th>\n",
              "      <td>1929.12.03.R</td>\n",
              "      <td>1929-12-03</td>\n",
              "      <td>1929.0</td>\n",
              "      <td>M</td>\n",
              "      <td>Unprovoked</td>\n",
              "      <td>Unknown</td>\n",
              "      <td>AUSTRALIA</td>\n",
              "      <td>Queensland</td>\n",
              "      <td>Townsville</td>\n",
              "      <td>NaN</td>\n",
              "      <td>NaN</td>\n",
              "      <td>Y</td>\n",
              "      <td>Unspecified</td>\n",
              "      <td>Dec</td>\n",
              "    </tr>\n",
              "    <tr>\n",
              "      <th>2</th>\n",
              "      <td>1929.10.20</td>\n",
              "      <td>1929-10-20</td>\n",
              "      <td>1929.0</td>\n",
              "      <td>M</td>\n",
              "      <td>Unprovoked</td>\n",
              "      <td>Unknown</td>\n",
              "      <td>AUSTRALIA</td>\n",
              "      <td>Torres Strait</td>\n",
              "      <td>Near Badu Island</td>\n",
              "      <td>DIVING</td>\n",
              "      <td>NaN</td>\n",
              "      <td>N</td>\n",
              "      <td>Unspecified</td>\n",
              "      <td>Oct</td>\n",
              "    </tr>\n",
              "    <tr>\n",
              "      <th>3</th>\n",
              "      <td>1929.09.01</td>\n",
              "      <td>1929-09-01</td>\n",
              "      <td>1929.0</td>\n",
              "      <td>M</td>\n",
              "      <td>Unprovoked</td>\n",
              "      <td>Unknown</td>\n",
              "      <td>AUSTRALIA</td>\n",
              "      <td>Queensland</td>\n",
              "      <td>Ross River, Townsville</td>\n",
              "      <td>OTHER</td>\n",
              "      <td>42.0</td>\n",
              "      <td>Y</td>\n",
              "      <td>Unspecified</td>\n",
              "      <td>Sep</td>\n",
              "    </tr>\n",
              "    <tr>\n",
              "      <th>4</th>\n",
              "      <td>1959.12.07</td>\n",
              "      <td>1959-12-07</td>\n",
              "      <td>1959.0</td>\n",
              "      <td>M</td>\n",
              "      <td>Unspecified</td>\n",
              "      <td>Unknown</td>\n",
              "      <td>AUSTRALIA</td>\n",
              "      <td>South Australia</td>\n",
              "      <td>Laura Bay</td>\n",
              "      <td>SPEARFISHING</td>\n",
              "      <td>NaN</td>\n",
              "      <td>Unknown</td>\n",
              "      <td>Unspecified</td>\n",
              "      <td>Dec</td>\n",
              "    </tr>\n",
              "    <tr>\n",
              "      <th>...</th>\n",
              "      <td>...</td>\n",
              "      <td>...</td>\n",
              "      <td>...</td>\n",
              "      <td>...</td>\n",
              "      <td>...</td>\n",
              "      <td>...</td>\n",
              "      <td>...</td>\n",
              "      <td>...</td>\n",
              "      <td>...</td>\n",
              "      <td>...</td>\n",
              "      <td>...</td>\n",
              "      <td>...</td>\n",
              "      <td>...</td>\n",
              "      <td>...</td>\n",
              "    </tr>\n",
              "    <tr>\n",
              "      <th>4358</th>\n",
              "      <td>2000.07.22</td>\n",
              "      <td>2000-07-22</td>\n",
              "      <td>2000.0</td>\n",
              "      <td>F</td>\n",
              "      <td>Unprovoked</td>\n",
              "      <td>NURSE SHARK</td>\n",
              "      <td>USA</td>\n",
              "      <td>Florida</td>\n",
              "      <td>Big Pine Key, Monroe County</td>\n",
              "      <td>SNORKELING</td>\n",
              "      <td>45.0</td>\n",
              "      <td>N</td>\n",
              "      <td>Unspecified</td>\n",
              "      <td>Jul</td>\n",
              "    </tr>\n",
              "    <tr>\n",
              "      <th>4359</th>\n",
              "      <td>2000.07.17</td>\n",
              "      <td>2000-07-17</td>\n",
              "      <td>2000.0</td>\n",
              "      <td>M</td>\n",
              "      <td>Unprovoked</td>\n",
              "      <td>Unknown</td>\n",
              "      <td>USA</td>\n",
              "      <td>North Carolina</td>\n",
              "      <td>Oceanic Pier, Wrightsville Beach, New Hanover ...</td>\n",
              "      <td>SURFING</td>\n",
              "      <td>16.0</td>\n",
              "      <td>N</td>\n",
              "      <td>Unspecified</td>\n",
              "      <td>Jul</td>\n",
              "    </tr>\n",
              "    <tr>\n",
              "      <th>4360</th>\n",
              "      <td>2000.07.16.b</td>\n",
              "      <td>2000-07-16</td>\n",
              "      <td>2000.0</td>\n",
              "      <td>M</td>\n",
              "      <td>Unprovoked</td>\n",
              "      <td>COLORED SHARK</td>\n",
              "      <td>USA</td>\n",
              "      <td>North Carolina</td>\n",
              "      <td>Holden Beach, Brunswick County</td>\n",
              "      <td>SURFING</td>\n",
              "      <td>14.0</td>\n",
              "      <td>N</td>\n",
              "      <td>Unspecified</td>\n",
              "      <td>Jul</td>\n",
              "    </tr>\n",
              "    <tr>\n",
              "      <th>4361</th>\n",
              "      <td>1999.10.01</td>\n",
              "      <td>1999-10-01</td>\n",
              "      <td>1999.0</td>\n",
              "      <td>M</td>\n",
              "      <td>Unprovoked</td>\n",
              "      <td>TIGER SHARK</td>\n",
              "      <td>USA</td>\n",
              "      <td>Hawaii</td>\n",
              "      <td>Old Kona Airport State Park</td>\n",
              "      <td>OTHER</td>\n",
              "      <td>16.0</td>\n",
              "      <td>N</td>\n",
              "      <td>night</td>\n",
              "      <td>Oct</td>\n",
              "    </tr>\n",
              "    <tr>\n",
              "      <th>4362</th>\n",
              "      <td>ND.0003</td>\n",
              "      <td>NaN</td>\n",
              "      <td>NaN</td>\n",
              "      <td>M</td>\n",
              "      <td>Unprovoked</td>\n",
              "      <td>Unknown</td>\n",
              "      <td>USA</td>\n",
              "      <td>North Carolina</td>\n",
              "      <td>Ocracoke Inlet</td>\n",
              "      <td>SWIMMING</td>\n",
              "      <td>NaN</td>\n",
              "      <td>Y</td>\n",
              "      <td>Unspecified</td>\n",
              "      <td>Unk</td>\n",
              "    </tr>\n",
              "  </tbody>\n",
              "</table>\n",
              "<p>4363 rows × 14 columns</p>\n",
              "</div>"
            ],
            "text/plain": [
              "       Case Number        Date    Year Sex  ...   Age Fatal (Y/N)         Time Month\n",
              "0       2009.01.18  2009-01-18  2009.0   M  ...   NaN           N  day-morning   Jan\n",
              "1     1929.12.03.R  1929-12-03  1929.0   M  ...   NaN           Y  Unspecified   Dec\n",
              "2       1929.10.20  1929-10-20  1929.0   M  ...   NaN           N  Unspecified   Oct\n",
              "3       1929.09.01  1929-09-01  1929.0   M  ...  42.0           Y  Unspecified   Sep\n",
              "4       1959.12.07  1959-12-07  1959.0   M  ...   NaN     Unknown  Unspecified   Dec\n",
              "...            ...         ...     ...  ..  ...   ...         ...          ...   ...\n",
              "4358    2000.07.22  2000-07-22  2000.0   F  ...  45.0           N  Unspecified   Jul\n",
              "4359    2000.07.17  2000-07-17  2000.0   M  ...  16.0           N  Unspecified   Jul\n",
              "4360  2000.07.16.b  2000-07-16  2000.0   M  ...  14.0           N  Unspecified   Jul\n",
              "4361    1999.10.01  1999-10-01  1999.0   M  ...  16.0           N        night   Oct\n",
              "4362       ND.0003         NaN     NaN   M  ...   NaN           Y  Unspecified   Unk\n",
              "\n",
              "[4363 rows x 14 columns]"
            ]
          },
          "metadata": {},
          "execution_count": 28
        }
      ]
    },
    {
      "cell_type": "code",
      "metadata": {
        "colab": {
          "base_uri": "https://localhost:8080/"
        },
        "id": "X3DWty5VgAQM",
        "outputId": "0cdade31-7ae6-4e17-d29c-7f6aebf7a869"
      },
      "source": [
        "shark.columns"
      ],
      "execution_count": 30,
      "outputs": [
        {
          "output_type": "execute_result",
          "data": {
            "text/plain": [
              "Index(['Case Number', 'Date', 'Year', 'Sex', 'Type', 'Species', 'Country',\n",
              "       'Area', 'Location', 'Activity', 'Age', 'Fatal (Y/N)', 'Time', 'Month'],\n",
              "      dtype='object')"
            ]
          },
          "metadata": {},
          "execution_count": 30
        }
      ]
    },
    {
      "cell_type": "code",
      "metadata": {
        "colab": {
          "base_uri": "https://localhost:8080/"
        },
        "id": "2kWU76-FgIUv",
        "outputId": "c2fc2a35-a31b-465b-b6b4-b3b3fed90e53"
      },
      "source": [
        "shark.isnull().sum()"
      ],
      "execution_count": 31,
      "outputs": [
        {
          "output_type": "execute_result",
          "data": {
            "text/plain": [
              "Case Number       0\n",
              "Date            375\n",
              "Year             47\n",
              "Sex             315\n",
              "Type              9\n",
              "Species           0\n",
              "Country           0\n",
              "Area              0\n",
              "Location        100\n",
              "Activity        319\n",
              "Age            1668\n",
              "Fatal (Y/N)       0\n",
              "Time              0\n",
              "Month             0\n",
              "dtype: int64"
            ]
          },
          "metadata": {},
          "execution_count": 31
        }
      ]
    },
    {
      "cell_type": "code",
      "metadata": {
        "colab": {
          "base_uri": "https://localhost:8080/",
          "height": 176
        },
        "id": "I6PGRDMKjF-F",
        "outputId": "1c6f0f21-7d23-4411-fc7d-d654ee776279"
      },
      "source": [
        "gender = shark.groupby([\"Sex\"]).agg({\"Sex\":\"count\"})\n",
        "gender = gender.rename(columns={\"Sex\": \"count\"})\n",
        "gender = gender.sort_values(\"count\", ascending=False)\n",
        "print(gender.sum())\n",
        "gender\n"
      ],
      "execution_count": 32,
      "outputs": [
        {
          "output_type": "stream",
          "name": "stdout",
          "text": [
            "count    4048\n",
            "dtype: int64\n"
          ]
        },
        {
          "output_type": "execute_result",
          "data": {
            "text/html": [
              "<div>\n",
              "<style scoped>\n",
              "    .dataframe tbody tr th:only-of-type {\n",
              "        vertical-align: middle;\n",
              "    }\n",
              "\n",
              "    .dataframe tbody tr th {\n",
              "        vertical-align: top;\n",
              "    }\n",
              "\n",
              "    .dataframe thead th {\n",
              "        text-align: right;\n",
              "    }\n",
              "</style>\n",
              "<table border=\"1\" class=\"dataframe\">\n",
              "  <thead>\n",
              "    <tr style=\"text-align: right;\">\n",
              "      <th></th>\n",
              "      <th>count</th>\n",
              "    </tr>\n",
              "    <tr>\n",
              "      <th>Sex</th>\n",
              "      <th></th>\n",
              "    </tr>\n",
              "  </thead>\n",
              "  <tbody>\n",
              "    <tr>\n",
              "      <th>M</th>\n",
              "      <td>3549</td>\n",
              "    </tr>\n",
              "    <tr>\n",
              "      <th>F</th>\n",
              "      <td>499</td>\n",
              "    </tr>\n",
              "  </tbody>\n",
              "</table>\n",
              "</div>"
            ],
            "text/plain": [
              "     count\n",
              "Sex       \n",
              "M     3549\n",
              "F      499"
            ]
          },
          "metadata": {},
          "execution_count": 32
        }
      ]
    },
    {
      "cell_type": "code",
      "metadata": {
        "colab": {
          "base_uri": "https://localhost:8080/",
          "height": 266
        },
        "id": "cEBm-pb1kQ_4",
        "outputId": "2c7607a9-fd23-4776-ee44-5e4cbbf46377"
      },
      "source": [
        "country = pd.crosstab(index=shark['Country'], columns=shark[\"Fatal (Y/N)\"]).sort_values(\"Y\",ascending=False)\n",
        "country = country[country.Y>1]\n",
        "country"
      ],
      "execution_count": 33,
      "outputs": [
        {
          "output_type": "execute_result",
          "data": {
            "text/html": [
              "<div>\n",
              "<style scoped>\n",
              "    .dataframe tbody tr th:only-of-type {\n",
              "        vertical-align: middle;\n",
              "    }\n",
              "\n",
              "    .dataframe tbody tr th {\n",
              "        vertical-align: top;\n",
              "    }\n",
              "\n",
              "    .dataframe thead th {\n",
              "        text-align: right;\n",
              "    }\n",
              "</style>\n",
              "<table border=\"1\" class=\"dataframe\">\n",
              "  <thead>\n",
              "    <tr style=\"text-align: right;\">\n",
              "      <th>Fatal (Y/N)</th>\n",
              "      <th>N</th>\n",
              "      <th>Unknown</th>\n",
              "      <th>Y</th>\n",
              "    </tr>\n",
              "    <tr>\n",
              "      <th>Country</th>\n",
              "      <th></th>\n",
              "      <th></th>\n",
              "      <th></th>\n",
              "    </tr>\n",
              "  </thead>\n",
              "  <tbody>\n",
              "    <tr>\n",
              "      <th>AUSTRALIA</th>\n",
              "      <td>964</td>\n",
              "      <td>137</td>\n",
              "      <td>290</td>\n",
              "    </tr>\n",
              "    <tr>\n",
              "      <th>USA</th>\n",
              "      <td>1896</td>\n",
              "      <td>195</td>\n",
              "      <td>155</td>\n",
              "    </tr>\n",
              "    <tr>\n",
              "      <th>SOUTH AFRICA</th>\n",
              "      <td>412</td>\n",
              "      <td>66</td>\n",
              "      <td>105</td>\n",
              "    </tr>\n",
              "    <tr>\n",
              "      <th>NEW ZEALAND</th>\n",
              "      <td>85</td>\n",
              "      <td>12</td>\n",
              "      <td>21</td>\n",
              "    </tr>\n",
              "    <tr>\n",
              "      <th>SINGAPORE</th>\n",
              "      <td>2</td>\n",
              "      <td>0</td>\n",
              "      <td>3</td>\n",
              "    </tr>\n",
              "    <tr>\n",
              "      <th>JAPAN</th>\n",
              "      <td>2</td>\n",
              "      <td>0</td>\n",
              "      <td>2</td>\n",
              "    </tr>\n",
              "  </tbody>\n",
              "</table>\n",
              "</div>"
            ],
            "text/plain": [
              "Fatal (Y/N)      N  Unknown    Y\n",
              "Country                         \n",
              "AUSTRALIA      964      137  290\n",
              "USA           1896      195  155\n",
              "SOUTH AFRICA   412       66  105\n",
              "NEW ZEALAND     85       12   21\n",
              "SINGAPORE        2        0    3\n",
              "JAPAN            2        0    2"
            ]
          },
          "metadata": {},
          "execution_count": 33
        }
      ]
    },
    {
      "cell_type": "code",
      "metadata": {
        "colab": {
          "base_uri": "https://localhost:8080/",
          "height": 414
        },
        "id": "R4E48JzqkNBV",
        "outputId": "9eb57ff0-97d4-4784-c75b-6a37d7962f4a"
      },
      "source": [
        "country[country.Y>70].plot(title = \"Top countries with most deaths\", kind = \"bar\", figsize = (15,5))\n",
        "plt.show()"
      ],
      "execution_count": 34,
      "outputs": [
        {
          "output_type": "display_data",
          "data": {
            "image/png": "[encoded data removed]",
            "text/plain": [
              "<Figure size 1080x360 with 1 Axes>"
            ]
          },
          "metadata": {
            "needs_background": "light"
          }
        }
      ]
    },
    {
      "cell_type": "code",
      "metadata": {
        "colab": {
          "base_uri": "https://localhost:8080/",
          "height": 452
        },
        "id": "-gemSV4Xkxjf",
        "outputId": "6ace32b3-04e7-41b3-9682-d5365aadfa84"
      },
      "source": [
        "activity = pd.crosstab(index=shark['Activity'][shark['Activity']!=\"unknown\"], columns=shark[\"Fatal (Y/N)\"]).sort_values(\"Y\",ascending=False)\n",
        "activity = activity[activity.Y>1]\n",
        "activity"
      ],
      "execution_count": 35,
      "outputs": [
        {
          "output_type": "execute_result",
          "data": {
            "text/html": [
              "<div>\n",
              "<style scoped>\n",
              "    .dataframe tbody tr th:only-of-type {\n",
              "        vertical-align: middle;\n",
              "    }\n",
              "\n",
              "    .dataframe tbody tr th {\n",
              "        vertical-align: top;\n",
              "    }\n",
              "\n",
              "    .dataframe thead th {\n",
              "        text-align: right;\n",
              "    }\n",
              "</style>\n",
              "<table border=\"1\" class=\"dataframe\">\n",
              "  <thead>\n",
              "    <tr style=\"text-align: right;\">\n",
              "      <th>Fatal (Y/N)</th>\n",
              "      <th>N</th>\n",
              "      <th>Unknown</th>\n",
              "      <th>Y</th>\n",
              "    </tr>\n",
              "    <tr>\n",
              "      <th>Activity</th>\n",
              "      <th></th>\n",
              "      <th></th>\n",
              "      <th></th>\n",
              "    </tr>\n",
              "  </thead>\n",
              "  <tbody>\n",
              "    <tr>\n",
              "      <th>OTHER</th>\n",
              "      <td>694</td>\n",
              "      <td>95</td>\n",
              "      <td>211</td>\n",
              "    </tr>\n",
              "    <tr>\n",
              "      <th>SWIMMING</th>\n",
              "      <td>386</td>\n",
              "      <td>71</td>\n",
              "      <td>148</td>\n",
              "    </tr>\n",
              "    <tr>\n",
              "      <th>BATHING</th>\n",
              "      <td>269</td>\n",
              "      <td>25</td>\n",
              "      <td>44</td>\n",
              "    </tr>\n",
              "    <tr>\n",
              "      <th>SURFING</th>\n",
              "      <td>926</td>\n",
              "      <td>43</td>\n",
              "      <td>40</td>\n",
              "    </tr>\n",
              "    <tr>\n",
              "      <th>DIVING</th>\n",
              "      <td>127</td>\n",
              "      <td>24</td>\n",
              "      <td>27</td>\n",
              "    </tr>\n",
              "    <tr>\n",
              "      <th>FISHING</th>\n",
              "      <td>271</td>\n",
              "      <td>12</td>\n",
              "      <td>19</td>\n",
              "    </tr>\n",
              "    <tr>\n",
              "      <th>BODY BOARDING</th>\n",
              "      <td>125</td>\n",
              "      <td>5</td>\n",
              "      <td>18</td>\n",
              "    </tr>\n",
              "    <tr>\n",
              "      <th>SPEARFISHING</th>\n",
              "      <td>157</td>\n",
              "      <td>20</td>\n",
              "      <td>16</td>\n",
              "    </tr>\n",
              "    <tr>\n",
              "      <th>FELL INTO THE WATER</th>\n",
              "      <td>3</td>\n",
              "      <td>1</td>\n",
              "      <td>12</td>\n",
              "    </tr>\n",
              "    <tr>\n",
              "      <th>FLOATING</th>\n",
              "      <td>34</td>\n",
              "      <td>3</td>\n",
              "      <td>9</td>\n",
              "    </tr>\n",
              "    <tr>\n",
              "      <th>SNORKELING</th>\n",
              "      <td>54</td>\n",
              "      <td>3</td>\n",
              "      <td>7</td>\n",
              "    </tr>\n",
              "    <tr>\n",
              "      <th>ON BOAT</th>\n",
              "      <td>73</td>\n",
              "      <td>5</td>\n",
              "      <td>2</td>\n",
              "    </tr>\n",
              "  </tbody>\n",
              "</table>\n",
              "</div>"
            ],
            "text/plain": [
              "Fatal (Y/N)            N  Unknown    Y\n",
              "Activity                              \n",
              "OTHER                694       95  211\n",
              "SWIMMING             386       71  148\n",
              "BATHING              269       25   44\n",
              "SURFING              926       43   40\n",
              "DIVING               127       24   27\n",
              "FISHING              271       12   19\n",
              "BODY BOARDING        125        5   18\n",
              "SPEARFISHING         157       20   16\n",
              "FELL INTO THE WATER    3        1   12\n",
              "FLOATING              34        3    9\n",
              "SNORKELING            54        3    7\n",
              "ON BOAT               73        5    2"
            ]
          },
          "metadata": {},
          "execution_count": 35
        }
      ]
    },
    {
      "cell_type": "code",
      "metadata": {
        "colab": {
          "base_uri": "https://localhost:8080/",
          "height": 451
        },
        "id": "W8iZxJhJkuZB",
        "outputId": "46d6dc72-89d9-4942-e66b-9c24b89cd9fa"
      },
      "source": [
        "activity[activity.Y>10].plot(title = \"Top activities with most deaths\", kind = \"bar\", figsize = (15,5))\n",
        "plt.show()"
      ],
      "execution_count": 36,
      "outputs": [
        {
          "output_type": "display_data",
          "data": {
            "image/png": "[encoded data removed]",
            "text/plain": [
              "<Figure size 1080x360 with 1 Axes>"
            ]
          },
          "metadata": {
            "needs_background": "light"
          }
        }
      ]
    },
    {
      "cell_type": "code",
      "metadata": {
        "id": "C50vm4BOrhdj",
        "colab": {
          "base_uri": "https://localhost:8080/",
          "height": 265
        },
        "outputId": "42739e3d-5b62-4ce2-e473-469d96dd2350"
      },
      "source": [
        "shark['Type'].value_counts().head(3).plot.pie(autopct='%1.2f%%')"
      ],
      "execution_count": 37,
      "outputs": [
        {
          "output_type": "execute_result",
          "data": {
            "text/plain": [
              "<matplotlib.axes._subplots.AxesSubplot at 0x7f117473b710>"
            ]
          },
          "metadata": {},
          "execution_count": 37
        },
        {
          "output_type": "display_data",
          "data": {
            "image/png": "[encoded data removed]",
            "text/plain": [
              "<Figure size 432x288 with 1 Axes>"
            ]
          },
          "metadata": {}
        }
      ]
    },
    {
      "cell_type": "code",
      "metadata": {
        "id": "y3t-_of5J8XM"
      },
      "source": [
        "def save_viz(barchart):\n",
        "    os.chdir('/content/sample_data')\n",
        "    fig = barchart.get_figure()\n",
        "    fig.savefig(title+ '.png')\n",
        "    plt.show()"
      ],
      "execution_count": 38,
      "outputs": []
    },
    {
      "cell_type": "code",
      "metadata": {
        "colab": {
          "base_uri": "https://localhost:8080/",
          "height": 417
        },
        "id": "dnqZmoOnJ_CV",
        "outputId": "1a01570f-987e-40c2-e75c-388f3b3b242c"
      },
      "source": [
        "sharks_country_chart=shark['Country'].value_counts().plot.bar(fontsize=10, figsize=(15, 5)).set_title('Top 10 countries per total number of shark df', fontsize=15)\n",
        "\n",
        "title='Top 10 countries per total number of shark df'\n",
        "save_viz(sharks_country_chart)"
      ],
      "execution_count": 39,
      "outputs": [
        {
          "output_type": "display_data",
          "data": {
            "image/png": "[encoded data removed]",
            "text/plain": [
              "<Figure size 1080x360 with 1 Axes>"
            ]
          },
          "metadata": {
            "needs_background": "light"
          }
        }
      ]
    }
  ]
}