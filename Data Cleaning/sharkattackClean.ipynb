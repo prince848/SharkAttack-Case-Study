{
  "nbformat": 4,
  "nbformat_minor": 0,
  "metadata": {
    "colab": {
      "name": "sharkattackClean.ipynb",
      "provenance": [],
      "collapsed_sections": [
        "QfxzUjjwAmD7",
        "3sRsR8zMT-ra",
        "YxPaU67K8h17",
        "BXb_zkyoUjzv"
      ],
      "toc_visible": true
    },
    "kernelspec": {
      "name": "python3",
      "display_name": "Python 3"
    },
    "language_info": {
      "name": "python"
    }
  },
  "cells": [
    {
      "cell_type": "code",
      "metadata": {
        "id": "k-9GH47KwFul"
      },
      "source": [
        "import pandas as pd\n",
        "import numpy as np\n",
        "import re\n",
        "from matplotlib import pyplot as plt\n",
        "import xlrd"
      ],
      "execution_count": null,
      "outputs": []
    },
    {
      "cell_type": "code",
      "metadata": {
        "id": "VT725d8u5wjU"
      },
      "source": [
        "import missingno"
      ],
      "execution_count": null,
      "outputs": []
    },
    {
      "cell_type": "code",
      "metadata": {
        "id": "LE5a43jFwPrm"
      },
      "source": [
        "import os\n",
        "df=pd.read_csv(\"/content/sample_data/GSAF5.csv\")"
      ],
      "execution_count": null,
      "outputs": []
    },
    {
      "cell_type": "code",
      "metadata": {
        "id": "vzeGNhfd3Uy3",
        "colab": {
          "base_uri": "https://localhost:8080/"
        },
        "outputId": "a9074315-c569-4c4b-d66d-f60c51ae3d08"
      },
      "source": [
        "file_list = [f for f in df]\n",
        "print(file_list)\n",
        "df.shape"
      ],
      "execution_count": null,
      "outputs": [
        {
          "output_type": "stream",
          "name": "stdout",
          "text": [
            "['Case Number', 'Date', 'Year', 'Type', 'Country', 'Area', 'Location', 'Activity', 'Name', 'Sex ', 'Age', 'Injury', 'Fatal (Y/N)', 'Time', 'Species ', 'Investigator or Source', 'pdf', 'href formula', 'href', 'Case Number.1', 'Case Number.2', 'original order', 'Unnamed: 22', 'Unnamed: 23']\n"
          ]
        },
        {
          "output_type": "execute_result",
          "data": {
            "text/plain": [
              "(25827, 24)"
            ]
          },
          "metadata": {},
          "execution_count": 4
        }
      ]
    },
    {
      "cell_type": "markdown",
      "metadata": {
        "id": "6IqY317d-eXw"
      },
      "source": [
        "## ***CASE NUMBER***"
      ]
    },
    {
      "cell_type": "code",
      "metadata": {
        "id": "hWp7f66E36aC",
        "colab": {
          "base_uri": "https://localhost:8080/",
          "height": 476
        },
        "outputId": "7cc3522a-e388-4f3e-d354-64d87f5ce019"
      },
      "source": [
        "print(df['Case Number'].equals(df['Case Number.1']))\n",
        "print(df['Case Number.1'].equals(df['Case Number.2']))\n",
        "print(df['Case Number'].equals(df['Case Number.2']))\n",
        "case_number=df[[\"Case Number\",\"Case Number.1\",\"Case Number.2\"]]\n",
        "# not_equal = case_number[case_number[\"Case Number\"]!=case_number[\"Case Number.1\"]]\n",
        "not_equal = case_number[case_number[\"Case Number\"]!=case_number[\"Case Number.2\"]]\n",
        "#not_equal = case_number[case_number[\"Case Number.1\"]!=case_number[\"Case Number.2\"]]\n",
        "display(not_equal)"
      ],
      "execution_count": null,
      "outputs": [
        {
          "output_type": "stream",
          "name": "stdout",
          "text": [
            "False\n",
            "False\n",
            "False\n"
          ]
        },
        {
          "output_type": "display_data",
          "data": {
            "text/html": [
              "<div>\n",
              "<style scoped>\n",
              "    .dataframe tbody tr th:only-of-type {\n",
              "        vertical-align: middle;\n",
              "    }\n",
              "\n",
              "    .dataframe tbody tr th {\n",
              "        vertical-align: top;\n",
              "    }\n",
              "\n",
              "    .dataframe thead th {\n",
              "        text-align: right;\n",
              "    }\n",
              "</style>\n",
              "<table border=\"1\" class=\"dataframe\">\n",
              "  <thead>\n",
              "    <tr style=\"text-align: right;\">\n",
              "      <th></th>\n",
              "      <th>Case Number</th>\n",
              "      <th>Case Number.1</th>\n",
              "      <th>Case Number.2</th>\n",
              "    </tr>\n",
              "  </thead>\n",
              "  <tbody>\n",
              "    <tr>\n",
              "      <th>83</th>\n",
              "      <td>NaN</td>\n",
              "      <td>2021.01.13.b</td>\n",
              "      <td>2021.01.13.b</td>\n",
              "    </tr>\n",
              "    <tr>\n",
              "      <th>164</th>\n",
              "      <td>2020.05.26</td>\n",
              "      <td>NaN</td>\n",
              "      <td>NaN</td>\n",
              "    </tr>\n",
              "    <tr>\n",
              "      <th>766</th>\n",
              "      <td>2015.07-10</td>\n",
              "      <td>2015.07.10</td>\n",
              "      <td>2015.07.10</td>\n",
              "    </tr>\n",
              "    <tr>\n",
              "      <th>5340</th>\n",
              "      <td>1934.01.08.R</td>\n",
              "      <td>1934.02.08.R</td>\n",
              "      <td>1934.02.08.R</td>\n",
              "    </tr>\n",
              "    <tr>\n",
              "      <th>5879</th>\n",
              "      <td>NaN</td>\n",
              "      <td>1905.09.06.R</td>\n",
              "      <td>1905.09.06.R</td>\n",
              "    </tr>\n",
              "    <tr>\n",
              "      <th>...</th>\n",
              "      <td>...</td>\n",
              "      <td>...</td>\n",
              "      <td>...</td>\n",
              "    </tr>\n",
              "    <tr>\n",
              "      <th>25822</th>\n",
              "      <td>NaN</td>\n",
              "      <td>NaN</td>\n",
              "      <td>NaN</td>\n",
              "    </tr>\n",
              "    <tr>\n",
              "      <th>25823</th>\n",
              "      <td>NaN</td>\n",
              "      <td>NaN</td>\n",
              "      <td>NaN</td>\n",
              "    </tr>\n",
              "    <tr>\n",
              "      <th>25824</th>\n",
              "      <td>NaN</td>\n",
              "      <td>NaN</td>\n",
              "      <td>NaN</td>\n",
              "    </tr>\n",
              "    <tr>\n",
              "      <th>25825</th>\n",
              "      <td>NaN</td>\n",
              "      <td>NaN</td>\n",
              "      <td>NaN</td>\n",
              "    </tr>\n",
              "    <tr>\n",
              "      <th>25826</th>\n",
              "      <td>xx</td>\n",
              "      <td>NaN</td>\n",
              "      <td>NaN</td>\n",
              "    </tr>\n",
              "  </tbody>\n",
              "</table>\n",
              "<p>19138 rows × 3 columns</p>\n",
              "</div>"
            ],
            "text/plain": [
              "        Case Number Case Number.1 Case Number.2\n",
              "83              NaN  2021.01.13.b  2021.01.13.b\n",
              "164      2020.05.26           NaN           NaN\n",
              "766      2015.07-10    2015.07.10    2015.07.10\n",
              "5340   1934.01.08.R  1934.02.08.R  1934.02.08.R\n",
              "5879            NaN  1905.09.06.R  1905.09.06.R\n",
              "...             ...           ...           ...\n",
              "25822           NaN           NaN           NaN\n",
              "25823           NaN           NaN           NaN\n",
              "25824           NaN           NaN           NaN\n",
              "25825           NaN           NaN           NaN\n",
              "25826            xx           NaN           NaN\n",
              "\n",
              "[19138 rows x 3 columns]"
            ]
          },
          "metadata": {}
        }
      ]
    },
    {
      "cell_type": "code",
      "metadata": {
        "id": "Q5d6m9vT42nU",
        "colab": {
          "base_uri": "https://localhost:8080/"
        },
        "outputId": "9723ce39-d006-4df4-8137-e237685767cf"
      },
      "source": [
        "df['Case Number.1'].isin(df['Case Number.2']).value_counts()"
      ],
      "execution_count": null,
      "outputs": [
        {
          "output_type": "execute_result",
          "data": {
            "text/plain": [
              "True     25789\n",
              "False       38\n",
              "Name: Case Number.1, dtype: int64"
            ]
          },
          "metadata": {},
          "execution_count": 6
        }
      ]
    },
    {
      "cell_type": "code",
      "metadata": {
        "id": "D1abnC60oH7m"
      },
      "source": [
        "df = df.drop(columns=[\"Case Number\"])"
      ],
      "execution_count": null,
      "outputs": []
    },
    {
      "cell_type": "code",
      "metadata": {
        "id": "JPZe3rIP472M",
        "colab": {
          "base_uri": "https://localhost:8080/",
          "height": 424
        },
        "outputId": "e0625557-e489-49df-8306-b154845f46cf"
      },
      "source": [
        "case_number2=df[[\"Case Number.1\",\"Case Number.2\"]]\n",
        "not_equal = case_number2[case_number2[\"Case Number.1\"]!=case_number2[\"Case Number.2\"]]\n",
        "display(not_equal)"
      ],
      "execution_count": null,
      "outputs": [
        {
          "output_type": "display_data",
          "data": {
            "text/html": [
              "<div>\n",
              "<style scoped>\n",
              "    .dataframe tbody tr th:only-of-type {\n",
              "        vertical-align: middle;\n",
              "    }\n",
              "\n",
              "    .dataframe tbody tr th {\n",
              "        vertical-align: top;\n",
              "    }\n",
              "\n",
              "    .dataframe thead th {\n",
              "        text-align: right;\n",
              "    }\n",
              "</style>\n",
              "<table border=\"1\" class=\"dataframe\">\n",
              "  <thead>\n",
              "    <tr style=\"text-align: right;\">\n",
              "      <th></th>\n",
              "      <th>Case Number.1</th>\n",
              "      <th>Case Number.2</th>\n",
              "    </tr>\n",
              "  </thead>\n",
              "  <tbody>\n",
              "    <tr>\n",
              "      <th>6</th>\n",
              "      <td>2021. 08.21</td>\n",
              "      <td>2021.08.21</td>\n",
              "    </tr>\n",
              "    <tr>\n",
              "      <th>9</th>\n",
              "      <td>2021..08.07.b</td>\n",
              "      <td>2021.08.07.b</td>\n",
              "    </tr>\n",
              "    <tr>\n",
              "      <th>10</th>\n",
              "      <td>2021.08.07.a</td>\n",
              "      <td>2021..08.07.a</td>\n",
              "    </tr>\n",
              "    <tr>\n",
              "      <th>73</th>\n",
              "      <td>2021.02.20</td>\n",
              "      <td>2021.02.21</td>\n",
              "    </tr>\n",
              "    <tr>\n",
              "      <th>81</th>\n",
              "      <td>2021.01.22.a</td>\n",
              "      <td>2021.01.22</td>\n",
              "    </tr>\n",
              "    <tr>\n",
              "      <th>...</th>\n",
              "      <td>...</td>\n",
              "      <td>...</td>\n",
              "    </tr>\n",
              "    <tr>\n",
              "      <th>25822</th>\n",
              "      <td>NaN</td>\n",
              "      <td>NaN</td>\n",
              "    </tr>\n",
              "    <tr>\n",
              "      <th>25823</th>\n",
              "      <td>NaN</td>\n",
              "      <td>NaN</td>\n",
              "    </tr>\n",
              "    <tr>\n",
              "      <th>25824</th>\n",
              "      <td>NaN</td>\n",
              "      <td>NaN</td>\n",
              "    </tr>\n",
              "    <tr>\n",
              "      <th>25825</th>\n",
              "      <td>NaN</td>\n",
              "      <td>NaN</td>\n",
              "    </tr>\n",
              "    <tr>\n",
              "      <th>25826</th>\n",
              "      <td>NaN</td>\n",
              "      <td>NaN</td>\n",
              "    </tr>\n",
              "  </tbody>\n",
              "</table>\n",
              "<p>19167 rows × 2 columns</p>\n",
              "</div>"
            ],
            "text/plain": [
              "       Case Number.1  Case Number.2\n",
              "6        2021. 08.21     2021.08.21\n",
              "9      2021..08.07.b   2021.08.07.b\n",
              "10      2021.08.07.a  2021..08.07.a\n",
              "73        2021.02.20     2021.02.21\n",
              "81      2021.01.22.a     2021.01.22\n",
              "...              ...            ...\n",
              "25822            NaN            NaN\n",
              "25823            NaN            NaN\n",
              "25824            NaN            NaN\n",
              "25825            NaN            NaN\n",
              "25826            NaN            NaN\n",
              "\n",
              "[19167 rows x 2 columns]"
            ]
          },
          "metadata": {}
        }
      ]
    },
    {
      "cell_type": "code",
      "metadata": {
        "id": "j6YPpRqb5Tl6"
      },
      "source": [
        "df = df.drop(columns=[\"Case Number.1\"])"
      ],
      "execution_count": null,
      "outputs": []
    },
    {
      "cell_type": "code",
      "metadata": {
        "id": "VnddKk-O5aGJ"
      },
      "source": [
        "df.rename(columns={\"Case Number.2\":\"Case Number\"}, inplace=True)\n"
      ],
      "execution_count": null,
      "outputs": []
    },
    {
      "cell_type": "code",
      "metadata": {
        "id": "oJza9ZkO6Ppf"
      },
      "source": [
        "df['Case Number'] = df['Case Number'].replace(\",\",\".\",regex=False)"
      ],
      "execution_count": null,
      "outputs": []
    },
    {
      "cell_type": "code",
      "metadata": {
        "id": "P50nEAi_KjqH"
      },
      "source": [
        "df.rename(columns={\"Sex \":\"Sex\"}, inplace=True)\n",
        "df.rename(columns={\"Species \":\"Species\"}, inplace=True)"
      ],
      "execution_count": null,
      "outputs": []
    },
    {
      "cell_type": "code",
      "metadata": {
        "id": "2tM1yLiEBYcB"
      },
      "source": [
        "df=df[[\"Case Number\",\"Date\",\"Year\",\"Sex\",\"Type\",\"Species\",\"Country\", \"Area\", \"Location\", \"Activity\", \"Age\", \"Fatal (Y/N)\", \"Time\"]]"
      ],
      "execution_count": null,
      "outputs": []
    },
    {
      "cell_type": "code",
      "metadata": {
        "id": "7DVTFUd9BLZB",
        "colab": {
          "base_uri": "https://localhost:8080/"
        },
        "outputId": "b24feb0f-70ac-4d16-9c57-701db4f63176"
      },
      "source": [
        "df.columns.drop_duplicates()"
      ],
      "execution_count": null,
      "outputs": [
        {
          "output_type": "execute_result",
          "data": {
            "text/plain": [
              "Index(['Case Number', 'Date', 'Year', 'Sex', 'Type', 'Species', 'Country',\n",
              "       'Area', 'Location', 'Activity', 'Age', 'Fatal (Y/N)', 'Time'],\n",
              "      dtype='object')"
            ]
          },
          "metadata": {},
          "execution_count": 14
        }
      ]
    },
    {
      "cell_type": "markdown",
      "metadata": {
        "id": "QfxzUjjwAmD7"
      },
      "source": [
        "## ***COLUMN AGE***"
      ]
    },
    {
      "cell_type": "code",
      "metadata": {
        "id": "_kG2f4MkAuZV",
        "colab": {
          "base_uri": "https://localhost:8080/"
        },
        "outputId": "d8fe470e-134e-4bd3-a9be-078c1b341050"
      },
      "source": [
        "df['Age'].value_counts().sample(20)"
      ],
      "execution_count": null,
      "outputs": [
        {
          "output_type": "execute_result",
          "data": {
            "text/plain": [
              "68              8\n",
              "31 or 33        1\n",
              "?    &   14     1\n",
              "25 or 28        1\n",
              "32             76\n",
              "!6              1\n",
              "!!              1\n",
              "mid-20s         1\n",
              "12 or 13        1\n",
              "50s             3\n",
              "46 & 34         1\n",
              "Both 11         1\n",
              "8 or 10         2\n",
              "28 & 22         1\n",
              "7 or 8          2\n",
              "18 to 22        1\n",
              "8              31\n",
              "30 or 36        1\n",
              "5               7\n",
              "6½              1\n",
              "Name: Age, dtype: int64"
            ]
          },
          "metadata": {},
          "execution_count": 15
        }
      ]
    },
    {
      "cell_type": "code",
      "metadata": {
        "id": "t1Qc7GYpA3nN",
        "colab": {
          "base_uri": "https://localhost:8080/"
        },
        "outputId": "b8f3c146-b8b2-41fb-895a-6f0c81fd1e45"
      },
      "source": [
        "df['Age'].replace(to_replace=['Teen','teen'],value='16',inplace=True)\n",
        "df['Age'].replace(to_replace='30s',value='35',inplace=True)\n",
        "df['Age'].replace(to_replace='20s',value='25',inplace=True)\n",
        "df['Age'] = pd.to_numeric(df['Age'], errors='coerce', downcast='integer')\n",
        "df['Age'].value_counts().head(20)"
      ],
      "execution_count": null,
      "outputs": [
        {
          "output_type": "execute_result",
          "data": {
            "text/plain": [
              "17.0    167\n",
              "16.0    160\n",
              "18.0    155\n",
              "19.0    148\n",
              "20.0    147\n",
              "15.0    146\n",
              "25.0    125\n",
              "21.0    124\n",
              "22.0    119\n",
              "14.0    111\n",
              "24.0    110\n",
              "13.0     99\n",
              "26.0     90\n",
              "23.0     87\n",
              "35.0     85\n",
              "28.0     85\n",
              "12.0     84\n",
              "29.0     84\n",
              "30.0     82\n",
              "27.0     82\n",
              "Name: Age, dtype: int64"
            ]
          },
          "metadata": {},
          "execution_count": 16
        }
      ]
    },
    {
      "cell_type": "markdown",
      "metadata": {
        "id": "sCOeTJ2lPGjG"
      },
      "source": [
        " ## ***Column Country***"
      ]
    },
    {
      "cell_type": "code",
      "metadata": {
        "id": "MT0XwqkYFJfj",
        "colab": {
          "base_uri": "https://localhost:8080/"
        },
        "outputId": "2eec2b74-6739-40e8-890b-c1b949409daf"
      },
      "source": [
        "filtered = df[(df['Country'].isnull())]\n",
        "\n",
        "print(filtered.shape)"
      ],
      "execution_count": null,
      "outputs": [
        {
          "output_type": "stream",
          "name": "stdout",
          "text": [
            "(19177, 13)\n"
          ]
        }
      ]
    },
    {
      "cell_type": "code",
      "metadata": {
        "id": "BcRzXNuEKn2f",
        "colab": {
          "base_uri": "https://localhost:8080/",
          "height": 400
        },
        "outputId": "0213fb44-c610-41dc-d3f2-a2d7c8a11817"
      },
      "source": [
        "df['Country'] = df['Country'].str.replace('ENGLAND', 'UNITED KINGDOM')\n",
        "df['Country'] = df['Country'].str.replace('SCOTLAND', 'UNITED KINGDOM')\n",
        "\n",
        "filtered = df[(df['Country']==\"UNITED KINGDOM\")]\n",
        "print(filtered.shape)\n",
        "filtered.head()"
      ],
      "execution_count": null,
      "outputs": [
        {
          "output_type": "stream",
          "name": "stdout",
          "text": [
            "(43, 13)\n"
          ]
        },
        {
          "output_type": "execute_result",
          "data": {
            "text/html": [
              "<div>\n",
              "<style scoped>\n",
              "    .dataframe tbody tr th:only-of-type {\n",
              "        vertical-align: middle;\n",
              "    }\n",
              "\n",
              "    .dataframe tbody tr th {\n",
              "        vertical-align: top;\n",
              "    }\n",
              "\n",
              "    .dataframe thead th {\n",
              "        text-align: right;\n",
              "    }\n",
              "</style>\n",
              "<table border=\"1\" class=\"dataframe\">\n",
              "  <thead>\n",
              "    <tr style=\"text-align: right;\">\n",
              "      <th></th>\n",
              "      <th>Case Number</th>\n",
              "      <th>Date</th>\n",
              "      <th>Year</th>\n",
              "      <th>Sex</th>\n",
              "      <th>Type</th>\n",
              "      <th>Species</th>\n",
              "      <th>Country</th>\n",
              "      <th>Area</th>\n",
              "      <th>Location</th>\n",
              "      <th>Activity</th>\n",
              "      <th>Age</th>\n",
              "      <th>Fatal (Y/N)</th>\n",
              "      <th>Time</th>\n",
              "    </tr>\n",
              "  </thead>\n",
              "  <tbody>\n",
              "    <tr>\n",
              "      <th>43</th>\n",
              "      <td>2021.06.12</td>\n",
              "      <td>12-Jun-2021</td>\n",
              "      <td>2021.0</td>\n",
              "      <td>M</td>\n",
              "      <td>Provoked</td>\n",
              "      <td>Tope shark, 6'</td>\n",
              "      <td>UNITED KINGDOM</td>\n",
              "      <td>West Sussex</td>\n",
              "      <td>Littlehampton</td>\n",
              "      <td>Fishing</td>\n",
              "      <td>51.0</td>\n",
              "      <td>N</td>\n",
              "      <td>NaN</td>\n",
              "    </tr>\n",
              "    <tr>\n",
              "      <th>384</th>\n",
              "      <td>2018.05.13.a</td>\n",
              "      <td>13-May-2018</td>\n",
              "      <td>2018.0</td>\n",
              "      <td>M</td>\n",
              "      <td>Invalid</td>\n",
              "      <td>Invalid incident</td>\n",
              "      <td>UNITED KINGDOM</td>\n",
              "      <td>Cornwall</td>\n",
              "      <td>Off Land's End</td>\n",
              "      <td>Fishing</td>\n",
              "      <td>21.0</td>\n",
              "      <td>N</td>\n",
              "      <td>08h15</td>\n",
              "    </tr>\n",
              "    <tr>\n",
              "      <th>509</th>\n",
              "      <td>2017.06.07.R</td>\n",
              "      <td>Reported 07-Jun-2017</td>\n",
              "      <td>2017.0</td>\n",
              "      <td>M</td>\n",
              "      <td>Unprovoked</td>\n",
              "      <td>3m shark, probably a smooth hound</td>\n",
              "      <td>UNITED KINGDOM</td>\n",
              "      <td>South Devon</td>\n",
              "      <td>Bantham Beach</td>\n",
              "      <td>Surfing</td>\n",
              "      <td>30.0</td>\n",
              "      <td>N</td>\n",
              "      <td>NaN</td>\n",
              "    </tr>\n",
              "    <tr>\n",
              "      <th>1125</th>\n",
              "      <td>2012.08.31</td>\n",
              "      <td>31-Aug-2012</td>\n",
              "      <td>2012.0</td>\n",
              "      <td>M</td>\n",
              "      <td>Provoked</td>\n",
              "      <td>Porbeagle shark, 7'</td>\n",
              "      <td>UNITED KINGDOM</td>\n",
              "      <td>Inner Hebrides</td>\n",
              "      <td>Off the Isle of Islay</td>\n",
              "      <td>Shark fishing</td>\n",
              "      <td>53.0</td>\n",
              "      <td>N</td>\n",
              "      <td>NaN</td>\n",
              "    </tr>\n",
              "    <tr>\n",
              "      <th>1224</th>\n",
              "      <td>2011.10.28.R</td>\n",
              "      <td>Reported 28-Oct-2011</td>\n",
              "      <td>2011.0</td>\n",
              "      <td>M</td>\n",
              "      <td>Unprovoked</td>\n",
              "      <td>8' to 10' shark</td>\n",
              "      <td>UNITED KINGDOM</td>\n",
              "      <td>Moray</td>\n",
              "      <td>Spey Bay</td>\n",
              "      <td>Surfing</td>\n",
              "      <td>26.0</td>\n",
              "      <td>N</td>\n",
              "      <td>NaN</td>\n",
              "    </tr>\n",
              "  </tbody>\n",
              "</table>\n",
              "</div>"
            ],
            "text/plain": [
              "       Case Number                  Date    Year  ...   Age Fatal (Y/N)   Time\n",
              "43      2021.06.12           12-Jun-2021  2021.0  ...  51.0           N    NaN\n",
              "384   2018.05.13.a           13-May-2018  2018.0  ...  21.0           N  08h15\n",
              "509   2017.06.07.R  Reported 07-Jun-2017  2017.0  ...  30.0           N    NaN\n",
              "1125    2012.08.31           31-Aug-2012  2012.0  ...  53.0           N    NaN\n",
              "1224  2011.10.28.R  Reported 28-Oct-2011  2011.0  ...  26.0           N    NaN\n",
              "\n",
              "[5 rows x 13 columns]"
            ]
          },
          "metadata": {},
          "execution_count": 18
        }
      ]
    },
    {
      "cell_type": "code",
      "metadata": {
        "id": "axF4sqUQOHu7",
        "colab": {
          "base_uri": "https://localhost:8080/",
          "height": 225
        },
        "outputId": "11a782e2-3743-445d-a46a-b7cc00eec9f6"
      },
      "source": [
        "counts=df['Country'].value_counts()\n",
        "display(counts)"
      ],
      "execution_count": null,
      "outputs": [
        {
          "output_type": "display_data",
          "data": {
            "text/plain": [
              "USA                               2428\n",
              "AUSTRALIA                         1429\n",
              "SOUTH AFRICA                       589\n",
              "NEW ZEALAND                        139\n",
              "PAPUA NEW GUINEA                   136\n",
              "                                  ... \n",
              "British Overseas Territory           1\n",
              "BRITISH VIRGIN ISLANDS               1\n",
              "ANGOLA                               1\n",
              "FEDERATED STATES OF MICRONESIA       1\n",
              "RED SEA / INDIAN OCEAN               1\n",
              "Name: Country, Length: 215, dtype: int64"
            ]
          },
          "metadata": {}
        }
      ]
    },
    {
      "cell_type": "markdown",
      "metadata": {
        "id": "OUmyDJbgPNba"
      },
      "source": [
        "## ***COLUMN FATAL***"
      ]
    },
    {
      "cell_type": "code",
      "metadata": {
        "id": "h-wlrCL8OH4k",
        "colab": {
          "base_uri": "https://localhost:8080/"
        },
        "outputId": "e3001bf5-7a3f-461b-ac61-e3ce95ab1f1a"
      },
      "source": [
        "df[\"Fatal (Y/N)\"].value_counts()"
      ],
      "execution_count": null,
      "outputs": [
        {
          "output_type": "execute_result",
          "data": {
            "text/plain": [
              "N          4634\n",
              "Y          1427\n",
              "UNKNOWN      71\n",
              " N            7\n",
              "F             2\n",
              "2017          1\n",
              "M             1\n",
              "y             1\n",
              "Y x 2         1\n",
              "Nq            1\n",
              "N             1\n",
              "Name: Fatal (Y/N), dtype: int64"
            ]
          },
          "metadata": {},
          "execution_count": 20
        }
      ]
    },
    {
      "cell_type": "code",
      "metadata": {
        "id": "FzBqcIiHOrgH"
      },
      "source": [
        "df[\"Fatal (Y/N)\"] = df[\"Fatal (Y/N)\"].str.strip()"
      ],
      "execution_count": null,
      "outputs": []
    },
    {
      "cell_type": "code",
      "metadata": {
        "id": "UQjQvigdOtMB",
        "colab": {
          "base_uri": "https://localhost:8080/"
        },
        "outputId": "4f815ca5-2982-45e9-c0e4-0442e63cf7fa"
      },
      "source": [
        "def FATAL(f): \n",
        "    if f not in [\"N\", \"Y\"]: \n",
        "        return 'Unknown'\n",
        "    else: \n",
        "        return f\n",
        "    \n",
        "df[\"Fatal (Y/N)\"] = df[\"Fatal (Y/N)\"].apply(FATAL)\n",
        "df[\"Fatal (Y/N)\"].value_counts()"
      ],
      "execution_count": null,
      "outputs": [
        {
          "output_type": "execute_result",
          "data": {
            "text/plain": [
              "Unknown    19758\n",
              "N           4642\n",
              "Y           1427\n",
              "Name: Fatal (Y/N), dtype: int64"
            ]
          },
          "metadata": {},
          "execution_count": 22
        }
      ]
    },
    {
      "cell_type": "markdown",
      "metadata": {
        "id": "PvF_vdKBPw1B"
      },
      "source": [
        "## ***Column type***"
      ]
    },
    {
      "cell_type": "code",
      "metadata": {
        "id": "rl68wJAHPnVj",
        "colab": {
          "base_uri": "https://localhost:8080/"
        },
        "outputId": "42d5433a-5935-4bf6-c7cf-3306725559ff"
      },
      "source": [
        "df[\"Type\"] = df[\"Type\"].str.strip() \n",
        "df[\"Type\"].value_counts()"
      ],
      "execution_count": null,
      "outputs": [
        {
          "output_type": "execute_result",
          "data": {
            "text/plain": [
              "Unprovoked             4908\n",
              "Provoked                613\n",
              "Invalid                 552\n",
              "Watercraft              350\n",
              "Sea Disaster            240\n",
              "Questionable             12\n",
              "Boat                      7\n",
              "Unconfirmed               1\n",
              "Under investigation       1\n",
              "Unverified                1\n",
              "Name: Type, dtype: int64"
            ]
          },
          "metadata": {},
          "execution_count": 23
        }
      ]
    },
    {
      "cell_type": "code",
      "metadata": {
        "id": "XRp6AWQyP1gi"
      },
      "source": [
        "df[\"Type\"] = df[\"Type\"].str.replace('Invalid', 'Unspecified').str.replace('Questionable', 'Unspecified').str.replace('Unconfirmed', 'Unspecified').str.replace('Unverified', 'Unspecified').str.replace('Under investigation', 'Unspecified')\n"
      ],
      "execution_count": null,
      "outputs": []
    },
    {
      "cell_type": "code",
      "metadata": {
        "id": "1MFFljgzR_ZR"
      },
      "source": [
        "df[\"Type\"] = df[\"Type\"].str.replace('Sea Disaster', 'Unprovoked')\n",
        "df[\"Type\"] = df[\"Type\"].str.replace('Boat', 'Provoked').str.replace('Watercraft','Provoked')"
      ],
      "execution_count": null,
      "outputs": []
    },
    {
      "cell_type": "code",
      "metadata": {
        "id": "XoqBIGsySUXl",
        "colab": {
          "base_uri": "https://localhost:8080/"
        },
        "outputId": "8a4e404d-0d69-4f94-9271-b5c64cf946dc"
      },
      "source": [
        "df[\"Type\"].value_counts()"
      ],
      "execution_count": null,
      "outputs": [
        {
          "output_type": "execute_result",
          "data": {
            "text/plain": [
              "Unprovoked     5148\n",
              "Provoked        970\n",
              "Unspecified     567\n",
              "Name: Type, dtype: int64"
            ]
          },
          "metadata": {},
          "execution_count": 26
        }
      ]
    },
    {
      "cell_type": "markdown",
      "metadata": {
        "id": "BVqaIEnVShU4"
      },
      "source": [
        "## ***Column time***"
      ]
    },
    {
      "cell_type": "code",
      "metadata": {
        "id": "kZuUMiBZSYVG",
        "colab": {
          "base_uri": "https://localhost:8080/"
        },
        "outputId": "2e7dfc65-736f-43de-d2b8-9690edf45b09"
      },
      "source": [
        "df['Time'] = df['Time'].str.strip()\n",
        "df['Time'] = df['Time'].str.lower()\n",
        "df.loc[df['Time'].notnull(),'Time'].sample(20)"
      ],
      "execution_count": null,
      "outputs": [
        {
          "output_type": "execute_result",
          "data": {
            "text/plain": [
              "4207      07h00\n",
              "272       09h00\n",
              "2938      09h45\n",
              "75        19h00\n",
              "629       22h00\n",
              "817       11h45\n",
              "1182      17h00\n",
              "2260      19h15\n",
              "448       12h30\n",
              "3077      18h00\n",
              "3580      13h00\n",
              "128     morning\n",
              "1821      11h00\n",
              "249       07h30\n",
              "872       11h00\n",
              "3185      11h00\n",
              "727       13h00\n",
              "1269      10h00\n",
              "4131      08h00\n",
              "6345    evening\n",
              "Name: Time, dtype: object"
            ]
          },
          "metadata": {},
          "execution_count": 27
        }
      ]
    },
    {
      "cell_type": "code",
      "metadata": {
        "id": "ohwKXgiXDyIX",
        "colab": {
          "base_uri": "https://localhost:8080/"
        },
        "outputId": "5e77ffdd-54af-4de6-cdac-be03ac759876"
      },
      "source": [
        "df.loc[(df['Time'].notnull()) & (df['Time'].str.fullmatch('[a-zA-Z]{3,}')),'Time'].value_counts()"
      ],
      "execution_count": null,
      "outputs": [
        {
          "output_type": "execute_result",
          "data": {
            "text/plain": [
              "afternoon    205\n",
              "morning      131\n",
              "night         64\n",
              "evening       38\n",
              "dusk          16\n",
              "midday        11\n",
              "sunset         6\n",
              "midnight       4\n",
              "dawn           2\n",
              "dark           2\n",
              "nightfall      1\n",
              "daybreak       1\n",
              "lunchtime      1\n",
              "daytime        1\n",
              "noon           1\n",
              "Name: Time, dtype: int64"
            ]
          },
          "metadata": {},
          "execution_count": 28
        }
      ]
    },
    {
      "cell_type": "code",
      "metadata": {
        "id": "VZrGN2jpETSZ"
      },
      "source": [
        "df['Time'].replace(['.*evening.*','.*dusk.*',\n",
        "                         '.*dark.*','.*night.*'],'night',regex=True,inplace=True)\n",
        "\n",
        "df['Time'].replace(['pm','p\\.m\\.','.*midday.*','.*sunset.*','.*lunchtime.*',\n",
        "                         '.*noon.*','.*daytime.*','.*afternoon.*'],'afternoon',regex=True,inplace=True)\n",
        "\n",
        "df['Time'].replace(['a\\.m\\.''am','.*dawn.*',\n",
        "                         '.*daybreak.*','.*morning.*'],'day-morning',regex=True,inplace=True)"
      ],
      "execution_count": null,
      "outputs": []
    },
    {
      "cell_type": "code",
      "metadata": {
        "id": "d-rwgCY5EtG3",
        "colab": {
          "base_uri": "https://localhost:8080/"
        },
        "outputId": "520f4211-21b1-423c-837b-62b55cf3e428"
      },
      "source": [
        "df.loc[(df['Time'].notnull()) & (df['Time'].str.fullmatch('\\w{3,}')),'Time'].value_counts()"
      ],
      "execution_count": null,
      "outputs": [
        {
          "output_type": "execute_result",
          "data": {
            "text/plain": [
              "afternoon    293\n",
              "11h00        138\n",
              "night        137\n",
              "12h00        117\n",
              "15h00        116\n",
              "            ... \n",
              "12h54          1\n",
              "12h39          1\n",
              "05h40          1\n",
              "10h43          1\n",
              "13h06          1\n",
              "Name: Time, Length: 276, dtype: int64"
            ]
          },
          "metadata": {},
          "execution_count": 30
        }
      ]
    },
    {
      "cell_type": "code",
      "metadata": {
        "id": "-V6zmAoGFJyh"
      },
      "source": [
        "#grouping 06:00 to 11:59 as day-morning \n",
        "df['Time'].replace(to_replace='.*0[6-9].?\\d{2}.*',value='day-morning',regex=True,inplace=True)\n",
        "df['Time'].replace(to_replace='.*1[0-1].?\\d{2}.*',value='day-morning',regex=True,inplace=True)\n",
        "#grouping 12:00 to 17:59 as afternoon\n",
        "df['Time'].replace(to_replace='.*1[2-7].?\\d{2}.*',value='afternoon',regex=True,inplace=True)\n",
        "#grouping 18:00 to 23:59 as night\n",
        "df['Time'].replace(to_replace='.*1[8-9].?\\d{2}.*',value='night',regex=True,inplace=True)\n",
        "df['Time'].replace(to_replace='.*2[0-3].?\\d{2}.*',value='night',regex=True,inplace=True)\n",
        "#grouping 00:00 to 05:59 as night-morning\n",
        "df['Time'].replace(to_replace='.*0[0-5].?\\d{2}.*',value='night-morning',regex=True,inplace=True)"
      ],
      "execution_count": null,
      "outputs": []
    },
    {
      "cell_type": "code",
      "metadata": {
        "id": "WVopoJwOFoY6",
        "colab": {
          "base_uri": "https://localhost:8080/"
        },
        "outputId": "34e8cd4c-1d5b-4efb-e3f1-276581dcd2f2"
      },
      "source": [
        "df[~df['Time'].isin(['day-morning','night-morning','night','afternoon'])]['Time'].count()"
      ],
      "execution_count": null,
      "outputs": [
        {
          "output_type": "execute_result",
          "data": {
            "text/plain": [
              "33"
            ]
          },
          "metadata": {},
          "execution_count": 32
        }
      ]
    },
    {
      "cell_type": "code",
      "metadata": {
        "id": "8bshvDhiF6bD"
      },
      "source": [
        "df.loc[~df['Time'].isin(['day-morning','night-morning','night','afternoon']),'Time'] = np.nan"
      ],
      "execution_count": null,
      "outputs": []
    },
    {
      "cell_type": "code",
      "metadata": {
        "id": "u5DYknmVFwDB",
        "colab": {
          "base_uri": "https://localhost:8080/"
        },
        "outputId": "7d5b980a-9134-48c2-c722-6230d10f156b"
      },
      "source": [
        "df['Time'].value_counts(dropna=False)"
      ],
      "execution_count": null,
      "outputs": [
        {
          "output_type": "execute_result",
          "data": {
            "text/plain": [
              "NaN              22615\n",
              "afternoon         1741\n",
              "day-morning       1044\n",
              "night              383\n",
              "night-morning       44\n",
              "Name: Time, dtype: int64"
            ]
          },
          "metadata": {},
          "execution_count": 34
        }
      ]
    },
    {
      "cell_type": "code",
      "metadata": {
        "id": "29ZE5l0CY5oR"
      },
      "source": [
        "df['Time']= df['Time'].fillna(\"Unspecified\")"
      ],
      "execution_count": null,
      "outputs": []
    },
    {
      "cell_type": "markdown",
      "metadata": {
        "id": "nxDWQ4Zcabus"
      },
      "source": [
        "## ***Column Activity***"
      ]
    },
    {
      "cell_type": "code",
      "metadata": {
        "id": "flNBpHB8aigg"
      },
      "source": [
        "df['Activity'].replace(['JUMPING','STANDING','WADING','WALKING','PLAYING','SPLASHING','DANGLING FEET IN THE WATER'],'BATHING',inplace=True)\n",
        "df['Activity'].replace(['BODY SURFING','BOOGIE BOARDING','BODY-BOARDING'],'BODY BOARDING',inplace=True)\n",
        "df['Activity'].replace('.*SPEARFISHING.*','SPEARFISHING',regex=True,inplace=True)\n",
        "df['Activity'].replace('.*DIVING.*','DIVING',regex=True,inplace=True)\n",
        "df['Activity'].replace(['.*SURFING','KITE BOARDING','.*SKIING'],'SURFING',regex=True,inplace=True)\n",
        "df['Activity'].replace(['.*KAYAK.*','.*BOAT.*','CANOEING','ROWING','SAILING','FISHING FOR MACKEREL'],'ON BOAT',regex=True,inplace=True)\n",
        "df['Activity'].replace(['TREADING WATER','FLOATING ON HIS BACK'],'FLOATING',inplace=True)\n",
        "df['Activity'].replace(['.*OVERBOARD.*','JUMPED INTO THE WATER'],'FELL INTO THE WATER',regex=True,inplace=True)\n",
        "df['Activity'].replace('FREEDOM SWIMMING','SWIMMING',inplace=True)\n",
        "df['Activity'].replace('SURF FISHING','WADE FISHING',inplace=True)\n",
        "df['Activity'].replace(['SITTING ON SURFBOARD','SURFING (SITTING ON HIS BOARD)','PADDLE BOARDING','STAND-UP PADDLEBOARDING','PADDLING ON SURFBOARD'],'ON SURFBOARD',inplace=True)\n",
        "df['Activity'].replace(['.{,30} SHARK.','SHARK RELATED ACTIVITY.*'],'SHARK RELATED ACTIVITY',regex=True,inplace=True)"
      ],
      "execution_count": null,
      "outputs": []
    },
    {
      "cell_type": "code",
      "metadata": {
        "id": "41MvOZINaygu",
        "colab": {
          "base_uri": "https://localhost:8080/"
        },
        "outputId": "cb7148f4-3914-4c49-f1c3-605d358fb587"
      },
      "source": [
        "mask =df['Activity'].value_counts().loc[df['Activity'].value_counts() < 5].index\n",
        "df.loc[df['Activity'].isin(mask),'Activity'] = 'OTHER'\n",
        "df['Activity'].value_counts().head(30)"
      ],
      "execution_count": null,
      "outputs": [
        {
          "output_type": "execute_result",
          "data": {
            "text/plain": [
              "OTHER              1738\n",
              "Surfing            1072\n",
              "Swimming            922\n",
              "Fishing             468\n",
              "Spearfishing        366\n",
              "Wading              166\n",
              "Bathing             163\n",
              "Diving              135\n",
              "Snorkeling          114\n",
              "Standing            110\n",
              "Scuba diving         81\n",
              "Body boarding        63\n",
              "Body surfing         50\n",
              "Swimming             47\n",
              "Boogie boarding      40\n",
              "Kayaking             37\n",
              "Treading water       33\n",
              "Pearl diving         32\n",
              "Fell overboard       32\n",
              "Free diving          30\n",
              "Windsurfing          19\n",
              "Boogie Boarding      17\n",
              "Walking              17\n",
              "Floating             16\n",
              "Fishing              16\n",
              "Canoeing             16\n",
              "Shark fishing        15\n",
              "Surf fishing         14\n",
              "Surf-skiing          13\n",
              "Scuba Diving         12\n",
              "Name: Activity, dtype: int64"
            ]
          },
          "metadata": {},
          "execution_count": 37
        }
      ]
    },
    {
      "cell_type": "markdown",
      "metadata": {
        "id": "uziMVREbbCVL"
      },
      "source": [
        "## ***Column Species***"
      ]
    },
    {
      "cell_type": "code",
      "metadata": {
        "id": "vUQlmwhZbGGu"
      },
      "source": [
        "df['Species'] = df['Species'].str.upper()\n",
        "df['Species'].replace(['.*UNCONFIRMED.*','.* NOT CONFIRMED.*',\n",
        "                                '.*QUESTIONABLE.*', '.*FOOT SHARK.*',\n",
        "                                '.*SMALL SHARK.*', '.*FROM SHARK.*',\n",
        "                                '.*FEMALE SHARK.*', '.*LARGE SHARK.*',\n",
        "                                '.*BUT SHARK.*', '.*JUVENILE SHARK.*',\n",
        "                                '.*THE SHARK.*','.*TWO SHARK.*',\n",
        "                                '.*ANOTHER SHARK.*','.*KG SHARK.*',\n",
        "                                '.*SEVERAL SHARK.*','.*SAME SHARK.*',\n",
        "                                '.*GROUND SHARK.*'],\n",
        "                               np.nan,regex=True,inplace=True)"
      ],
      "execution_count": null,
      "outputs": []
    },
    {
      "cell_type": "code",
      "metadata": {
        "id": "DwY0CciubLhd"
      },
      "source": [
        "df['Species'] = df[df['Species'].notnull()]['Species'].str.findall('\\w{3,} SHARK')\n",
        "df['Species'] = df['Species'].apply(lambda x : ' OR '.join(x) if x == x else x)"
      ],
      "execution_count": null,
      "outputs": []
    },
    {
      "cell_type": "code",
      "metadata": {
        "id": "ws-jfnPGbQBp"
      },
      "source": [
        "df.loc[df['Species'] == df['Species'], 'Species']\n",
        "df.loc[df['Species'].notnull() & df['Species'].str.contains(' OR '),'Species'] = np.nan\n",
        "df.loc[df['Species'] == '','Species'] = np.nan"
      ],
      "execution_count": null,
      "outputs": []
    },
    {
      "cell_type": "code",
      "metadata": {
        "id": "-cVtJKIQbQsz",
        "colab": {
          "base_uri": "https://localhost:8080/"
        },
        "outputId": "757e78b9-894f-4806-c980-5f1f1582fd55"
      },
      "source": [
        "df['Species'].value_counts().head(20)"
      ],
      "execution_count": null,
      "outputs": [
        {
          "output_type": "execute_result",
          "data": {
            "text/plain": [
              "WHITE SHARK          668\n",
              "TIGER SHARK          281\n",
              "BULL SHARK           192\n",
              "NURSE SHARK          107\n",
              "BLACKTIP SHARK        76\n",
              "REEF SHARK            73\n",
              "WHALER SHARK          68\n",
              "MAKO SHARK            55\n",
              "WOBBEGONG SHARK       49\n",
              "SPINNER SHARK         48\n",
              "HAMMERHEAD SHARK      44\n",
              "RAGGEDTOOTH SHARK     43\n",
              "BLUE SHARK            40\n",
              "LEMON SHARK           39\n",
              "ZAMBESI SHARK         29\n",
              "WHITETIP SHARK        28\n",
              "SANDTIGER SHARK       25\n",
              "SAND SHARK            17\n",
              "DUSKY SHARK           12\n",
              "SEVENGILL SHARK       11\n",
              "Name: Species, dtype: int64"
            ]
          },
          "metadata": {},
          "execution_count": 41
        }
      ]
    },
    {
      "cell_type": "code",
      "metadata": {
        "id": "OHHkI2-rY1Cq",
        "colab": {
          "base_uri": "https://localhost:8080/"
        },
        "outputId": "f4394fc3-253a-4a4b-b904-f9fbb19b654d"
      },
      "source": [
        "df['Species'].isna().sum()"
      ],
      "execution_count": null,
      "outputs": [
        {
          "output_type": "execute_result",
          "data": {
            "text/plain": [
              "23790"
            ]
          },
          "metadata": {},
          "execution_count": 42
        }
      ]
    },
    {
      "cell_type": "code",
      "metadata": {
        "id": "8Hkx08MSZpXI"
      },
      "source": [
        "df['Species'].fillna('Unknown',inplace=True)"
      ],
      "execution_count": null,
      "outputs": []
    },
    {
      "cell_type": "markdown",
      "metadata": {
        "id": "3sRsR8zMT-ra"
      },
      "source": [
        "## ***Column Area***"
      ]
    },
    {
      "cell_type": "code",
      "metadata": {
        "id": "Qca6YuUSSguf",
        "colab": {
          "base_uri": "https://localhost:8080/"
        },
        "outputId": "b88ae3be-b1fd-4d7f-9fa0-ea55f2a81d1d"
      },
      "source": [
        "df['Area'].value_counts()"
      ],
      "execution_count": null,
      "outputs": [
        {
          "output_type": "execute_result",
          "data": {
            "text/plain": [
              "Florida                                       1128\n",
              "New South Wales                                511\n",
              "Queensland                                     339\n",
              "Hawaii                                         326\n",
              "California                                     311\n",
              "                                              ... \n",
              "Between Beira & Maputo                           1\n",
              "Viti Levu group                                  1\n",
              "Ambergris Caye                                   1\n",
              "Island of St. Thomas                             1\n",
              "On the Kowloon penisula, south of Sai Kung       1\n",
              "Name: Area, Length: 864, dtype: int64"
            ]
          },
          "metadata": {},
          "execution_count": 44
        }
      ]
    },
    {
      "cell_type": "code",
      "metadata": {
        "id": "2hV2_33pUHCb"
      },
      "source": [
        "df[\"Area\"]= df[\"Area\"].fillna(\"Unspecified\")"
      ],
      "execution_count": null,
      "outputs": []
    },
    {
      "cell_type": "code",
      "metadata": {
        "id": "0S3K485ZUMd8",
        "colab": {
          "base_uri": "https://localhost:8080/"
        },
        "outputId": "3f20032a-236a-481d-8eb3-47820b9a1258"
      },
      "source": [
        "count = df['Area'].value_counts()\n",
        "count[count > 25]\n",
        "df=df[df['Area'].isin(count[count >25].index)]\n",
        "df[\"Area\"].value_counts()"
      ],
      "execution_count": null,
      "outputs": [
        {
          "output_type": "execute_result",
          "data": {
            "text/plain": [
              "Unspecified              19599\n",
              "Florida                   1128\n",
              "New South Wales            511\n",
              "Queensland                 339\n",
              "Hawaii                     326\n",
              "California                 311\n",
              "KwaZulu-Natal              217\n",
              "Western Australia          213\n",
              "Western Cape Province      195\n",
              "South Carolina             166\n",
              "Eastern Cape Province      166\n",
              "North Carolina             116\n",
              "South Australia            108\n",
              "Victoria                    92\n",
              "Pernambuco                  77\n",
              "Texas                       77\n",
              "North Island                74\n",
              "Torres Strait               70\n",
              "New Jersey                  54\n",
              "Tasmania                    44\n",
              "South Island                41\n",
              "New York                    33\n",
              "Oregon                      31\n",
              "Abaco Islands               29\n",
              "Name: Area, dtype: int64"
            ]
          },
          "metadata": {},
          "execution_count": 46
        }
      ]
    },
    {
      "cell_type": "markdown",
      "metadata": {
        "id": "YxPaU67K8h17"
      },
      "source": [
        "## ***COLUMN DATE***"
      ]
    },
    {
      "cell_type": "code",
      "metadata": {
        "id": "GRtYdVAG8hEa",
        "colab": {
          "base_uri": "https://localhost:8080/"
        },
        "outputId": "42b10ea6-d2aa-4d5b-cd1b-1e37624f19dd"
      },
      "source": [
        "def find_month(string):\n",
        "    months = [\"Jan\",\"Feb\",\"Mar\",\"Apr\",\"May\",\"Jun\",\"Jul\",\"Aug\",\"Sep\",\"Oct\",\"Nov\",\"Dec\"]\n",
        "    #If it founds the info of a month, it returns it as an output of this cleaning function\n",
        "    try:\n",
        "        for month in months:\n",
        "            if re.search(month,string):\n",
        "                return month\n",
        "    except TypeError:\n",
        "        pass\n",
        "\n",
        "df['Month'] = df['Date']    \n",
        "df['Month'] = df['Date'].apply(find_month)\n",
        "df['Month'].fillna(value=\"Unk\",inplace=True)"
      ],
      "execution_count": null,
      "outputs": [
        {
          "output_type": "stream",
          "name": "stderr",
          "text": [
            "/usr/local/lib/python3.7/dist-packages/ipykernel_launcher.py:11: SettingWithCopyWarning: \n",
            "A value is trying to be set on a copy of a slice from a DataFrame.\n",
            "Try using .loc[row_indexer,col_indexer] = value instead\n",
            "\n",
            "See the caveats in the documentation: https://pandas.pydata.org/pandas-docs/stable/user_guide/indexing.html#returning-a-view-versus-a-copy\n",
            "  # This is added back by InteractiveShellApp.init_path()\n"
          ]
        }
      ]
    },
    {
      "cell_type": "code",
      "metadata": {
        "id": "diZkcFcSCuJv",
        "colab": {
          "base_uri": "https://localhost:8080/"
        },
        "outputId": "a5140834-0fb4-4525-c469-896a093bc129"
      },
      "source": [
        "df['Date'].sample(20)"
      ],
      "execution_count": null,
      "outputs": [
        {
          "output_type": "execute_result",
          "data": {
            "text/plain": [
              "24250            NaN\n",
              "8934             NaN\n",
              "8521             NaN\n",
              "12147            NaN\n",
              "8737             NaN\n",
              "7664             NaN\n",
              "10190            NaN\n",
              "5819     31-Dec-1908\n",
              "22926            NaN\n",
              "13000            NaN\n",
              "3569     02-May-1976\n",
              "21912            NaN\n",
              "14145            NaN\n",
              "15954            NaN\n",
              "19725            NaN\n",
              "20384            NaN\n",
              "21237            NaN\n",
              "21435            NaN\n",
              "11749            NaN\n",
              "25763            NaN\n",
              "Name: Date, dtype: object"
            ]
          },
          "metadata": {},
          "execution_count": 48
        }
      ]
    },
    {
      "cell_type": "code",
      "metadata": {
        "id": "m4hUko1eC7J6"
      },
      "source": [
        "df['Date'] = df['Date'].str.upper()\n",
        "df['Date'] = df['Date'].str.lstrip('REPORTED ')\n",
        "df['Date'] = pd.to_datetime(df['Date'],errors='coerce', format='%d-%b-%Y')"
      ],
      "execution_count": null,
      "outputs": []
    },
    {
      "cell_type": "code",
      "metadata": {
        "id": "yYtDh806DOF9",
        "colab": {
          "base_uri": "https://localhost:8080/"
        },
        "outputId": "827dd31a-856e-4ec4-8cdb-c70232b542b2"
      },
      "source": [
        "df.loc[df['Date'].notnull(),'Date'].sample(20)"
      ],
      "execution_count": null,
      "outputs": [
        {
          "output_type": "execute_result",
          "data": {
            "text/plain": [
              "5718   1915-01-13\n",
              "364    2018-07-13\n",
              "1150   2012-06-26\n",
              "1949   2005-07-01\n",
              "2554   1998-07-25\n",
              "5192   1939-01-12\n",
              "6350   1863-02-05\n",
              "533    2017-04-11\n",
              "1961   2005-05-28\n",
              "6358   1862-12-04\n",
              "4109   1963-12-21\n",
              "2250   2002-03-25\n",
              "3843   1968-10-13\n",
              "490    2017-07-20\n",
              "2296   2001-08-19\n",
              "6029   1895-06-03\n",
              "5248   1937-02-03\n",
              "2768   1995-04-13\n",
              "3091   1988-10-06\n",
              "2222   2002-07-04\n",
              "Name: Date, dtype: datetime64[ns]"
            ]
          },
          "metadata": {},
          "execution_count": 50
        }
      ]
    },
    {
      "cell_type": "markdown",
      "metadata": {
        "id": "BXb_zkyoUjzv"
      },
      "source": [
        "## ***COLUMN YEAR***"
      ]
    },
    {
      "cell_type": "code",
      "metadata": {
        "id": "nYjTL_UZUddg",
        "colab": {
          "base_uri": "https://localhost:8080/"
        },
        "outputId": "3811f9c9-6471-4acf-c6d9-152c87b0961c"
      },
      "source": [
        "df[df['Year'].notnull()]['Year'].value_counts().head(10)"
      ],
      "execution_count": null,
      "outputs": [
        {
          "output_type": "execute_result",
          "data": {
            "text/plain": [
              "2015.0    125\n",
              "2016.0    106\n",
              "2014.0    106\n",
              "2017.0    103\n",
              "2013.0    100\n",
              "2012.0     99\n",
              "2008.0     95\n",
              "2009.0     94\n",
              "2018.0     93\n",
              "2007.0     91\n",
              "Name: Year, dtype: int64"
            ]
          },
          "metadata": {},
          "execution_count": 51
        }
      ]
    },
    {
      "cell_type": "code",
      "metadata": {
        "id": "vHOm4jPaVRgd",
        "colab": {
          "base_uri": "https://localhost:8080/"
        },
        "outputId": "552894d4-d168-4935-a552-4132a55d5d71"
      },
      "source": [
        "df['Year'].replace(0,np.nan,inplace=True)\n",
        "df['Year'] = pd.to_numeric(df['Year'], errors='coerce', downcast='integer')\n",
        "df['Year'].value_counts().head(20)"
      ],
      "execution_count": null,
      "outputs": [
        {
          "output_type": "execute_result",
          "data": {
            "text/plain": [
              "2015.0    125\n",
              "2016.0    106\n",
              "2014.0    106\n",
              "2017.0    103\n",
              "2013.0    100\n",
              "2012.0     99\n",
              "2008.0     95\n",
              "2009.0     94\n",
              "2018.0     93\n",
              "2007.0     91\n",
              "2019.0     89\n",
              "2005.0     88\n",
              "2006.0     87\n",
              "2011.0     84\n",
              "2000.0     80\n",
              "2020.0     77\n",
              "2001.0     77\n",
              "2003.0     76\n",
              "2021.0     74\n",
              "2002.0     73\n",
              "Name: Year, dtype: int64"
            ]
          },
          "metadata": {},
          "execution_count": 52
        }
      ]
    },
    {
      "cell_type": "markdown",
      "metadata": {
        "id": "P1cwk0ZXGckD"
      },
      "source": [
        "## ***Column Sex***"
      ]
    },
    {
      "cell_type": "code",
      "metadata": {
        "id": "ZeUwZwiUGjG_",
        "colab": {
          "base_uri": "https://localhost:8080/"
        },
        "outputId": "b69e9f3f-819a-4e8a-8cf3-ce12015a97b4"
      },
      "source": [
        "df['Sex'].value_counts()"
      ],
      "execution_count": null,
      "outputs": [
        {
          "output_type": "execute_result",
          "data": {
            "text/plain": [
              "M      3981\n",
              "F       528\n",
              "N         2\n",
              "M         2\n",
              "lli       1\n",
              "Name: Sex, dtype: int64"
            ]
          },
          "metadata": {},
          "execution_count": 53
        }
      ]
    },
    {
      "cell_type": "code",
      "metadata": {
        "id": "WoVn6xT4Gq9H",
        "colab": {
          "base_uri": "https://localhost:8080/"
        },
        "outputId": "0ada3cbb-93fb-4d5d-c4d1-d723feb6a9af"
      },
      "source": [
        "df['Sex'] = df['Sex'].str.strip()\n",
        "df['Sex'].replace(['N','.','lli'],np.nan,inplace=True)\n",
        "df['Sex'].value_counts()"
      ],
      "execution_count": null,
      "outputs": [
        {
          "output_type": "execute_result",
          "data": {
            "text/plain": [
              "M    3983\n",
              "F     528\n",
              "Name: Sex, dtype: int64"
            ]
          },
          "metadata": {},
          "execution_count": 54
        }
      ]
    },
    {
      "cell_type": "markdown",
      "metadata": {
        "id": "pG4UdHvwd2Cx"
      },
      "source": [
        "## ***Column Activity***"
      ]
    },
    {
      "cell_type": "code",
      "metadata": {
        "id": "w74sE4CTd68R",
        "colab": {
          "base_uri": "https://localhost:8080/"
        },
        "outputId": "ad1958c3-272c-440b-b6b1-16ea7ba31345"
      },
      "source": [
        "df['Activity'] = df['Activity'].str.strip()\n",
        "df['Activity'] = df['Activity'].str.upper()\n",
        "df['Activity'].value_counts().head(20)"
      ],
      "execution_count": null,
      "outputs": [
        {
          "output_type": "execute_result",
          "data": {
            "text/plain": [
              "OTHER              1133\n",
              "SURFING             995\n",
              "SWIMMING            675\n",
              "FISHING             327\n",
              "SPEARFISHING        239\n",
              "WADING              139\n",
              "BATHING             106\n",
              "STANDING             92\n",
              "DIVING               77\n",
              "SNORKELING           74\n",
              "BODY BOARDING        60\n",
              "SCUBA DIVING         56\n",
              "BOOGIE BOARDING      51\n",
              "BODY SURFING         43\n",
              "KAYAKING             35\n",
              "TREADING WATER       31\n",
              "PEARL DIVING         27\n",
              "FREE DIVING          24\n",
              "FELL OVERBOARD       24\n",
              "SURF SKIING          21\n",
              "Name: Activity, dtype: int64"
            ]
          },
          "metadata": {},
          "execution_count": 55
        }
      ]
    },
    {
      "cell_type": "code",
      "metadata": {
        "id": "sAjQ3dp2eC5Z"
      },
      "source": [
        "df['Activity'].replace(['JUMPING','STANDING','WADING','WALKING','PLAYING','SPLASHING','DANGLING FEET IN THE WATER'],'BATHING',inplace=True)\n",
        "df['Activity'].replace(['BODY SURFING','BOOGIE BOARDING','BODY-BOARDING'],'BODY BOARDING',inplace=True)\n",
        "df['Activity'].replace('.*SPEARFISHING.*','SPEARFISHING',regex=True,inplace=True)\n",
        "df['Activity'].replace('.*DIVING.*','DIVING',regex=True,inplace=True)\n",
        "df['Activity'].replace(['.*SURFING','KITE BOARDING','.*SKIING'],'SURFING',regex=True,inplace=True)\n",
        "df['Activity'].replace(['.*KAYAK.*','.*BOAT.*','CANOEING','ROWING','SAILING','FISHING FOR MACKEREL'],'ON BOAT',regex=True,inplace=True)\n",
        "df['Activity'].replace(['TREADING WATER','FLOATING ON HIS BACK'],'FLOATING',inplace=True)\n",
        "df['Activity'].replace(['.*OVERBOARD.*','JUMPED INTO THE WATER'],'FELL INTO THE WATER',regex=True,inplace=True)\n",
        "df['Activity'].replace('FREEDOM SWIMMING','SWIMMING',inplace=True)\n",
        "df['Activity'].replace('SURF FISHING','WADE FISHING',inplace=True)\n",
        "df['Activity'].replace(['SITTING ON SURFBOARD','SURFING (SITTING ON HIS BOARD)','PADDLE BOARDING','STAND-UP PADDLEBOARDING','PADDLING ON SURFBOARD'],'ON SURFBOARD',inplace=True)\n",
        "df['Activity'].replace(['.{,30} SHARK.','SHARK RELATED ACTIVITY.*'],'SHARK RELATED ACTIVITY',regex=True,inplace=True)"
      ],
      "execution_count": null,
      "outputs": []
    },
    {
      "cell_type": "code",
      "metadata": {
        "id": "-kZ8CJedlEkG",
        "colab": {
          "base_uri": "https://localhost:8080/"
        },
        "outputId": "c226332e-1219-44e1-9dbb-c57a0e803414"
      },
      "source": [
        "mask = df['Activity'].value_counts().loc[df['Activity'].value_counts() < 5].index\n",
        "df.loc[df['Activity'].isin(mask),'Activity'] = 'OTHER'\n",
        "df['Activity'].value_counts().head(30)"
      ],
      "execution_count": null,
      "outputs": [
        {
          "output_type": "execute_result",
          "data": {
            "text/plain": [
              "OTHER                     1139\n",
              "SURFING                   1055\n",
              "SWIMMING                   676\n",
              "BATHING                    364\n",
              "FISHING                    327\n",
              "SPEARFISHING               242\n",
              "DIVING                     223\n",
              "BODY BOARDING              154\n",
              "ON BOAT                     84\n",
              "SNORKELING                  74\n",
              "FLOATING                    47\n",
              "ON SURFBOARD                35\n",
              "FELL INTO THE WATER         31\n",
              "WADE FISHING                14\n",
              "SHARK RELATED ACTIVITY      12\n",
              "SHARK FISHING               11\n",
              "SEA DISASTER                 6\n",
              "Name: Activity, dtype: int64"
            ]
          },
          "metadata": {},
          "execution_count": 57
        }
      ]
    },
    {
      "cell_type": "markdown",
      "metadata": {
        "id": "lJ5lCbMhCdo1"
      },
      "source": [
        "## ***Exporting***"
      ]
    },
    {
      "cell_type": "code",
      "metadata": {
        "id": "zsk-x3jUHaKc",
        "colab": {
          "base_uri": "https://localhost:8080/",
          "height": 528
        },
        "outputId": "d271d198-7548-469f-d4b2-6156066349a4"
      },
      "source": [
        "df.drop(columns=['Location','Case Number'])"
      ],
      "execution_count": null,
      "outputs": [
        {
          "output_type": "execute_result",
          "data": {
            "text/html": [
              "<div>\n",
              "<style scoped>\n",
              "    .dataframe tbody tr th:only-of-type {\n",
              "        vertical-align: middle;\n",
              "    }\n",
              "\n",
              "    .dataframe tbody tr th {\n",
              "        vertical-align: top;\n",
              "    }\n",
              "\n",
              "    .dataframe thead th {\n",
              "        text-align: right;\n",
              "    }\n",
              "</style>\n",
              "<table border=\"1\" class=\"dataframe\">\n",
              "  <thead>\n",
              "    <tr style=\"text-align: right;\">\n",
              "      <th></th>\n",
              "      <th>Date</th>\n",
              "      <th>Year</th>\n",
              "      <th>Sex</th>\n",
              "      <th>Type</th>\n",
              "      <th>Species</th>\n",
              "      <th>Country</th>\n",
              "      <th>Area</th>\n",
              "      <th>Activity</th>\n",
              "      <th>Age</th>\n",
              "      <th>Fatal (Y/N)</th>\n",
              "      <th>Time</th>\n",
              "      <th>Month</th>\n",
              "    </tr>\n",
              "  </thead>\n",
              "  <tbody>\n",
              "    <tr>\n",
              "      <th>0</th>\n",
              "      <td>2021-09-10</td>\n",
              "      <td>2021.0</td>\n",
              "      <td>M</td>\n",
              "      <td>NaN</td>\n",
              "      <td>Unknown</td>\n",
              "      <td>EGYPT</td>\n",
              "      <td>Unspecified</td>\n",
              "      <td>SWIMMING</td>\n",
              "      <td>NaN</td>\n",
              "      <td>Unknown</td>\n",
              "      <td>Unspecified</td>\n",
              "      <td>Sep</td>\n",
              "    </tr>\n",
              "    <tr>\n",
              "      <th>1</th>\n",
              "      <td>2021-09-09</td>\n",
              "      <td>2021.0</td>\n",
              "      <td>M</td>\n",
              "      <td>Unprovoked</td>\n",
              "      <td>Unknown</td>\n",
              "      <td>USA</td>\n",
              "      <td>Florida</td>\n",
              "      <td>SURFING</td>\n",
              "      <td>NaN</td>\n",
              "      <td>N</td>\n",
              "      <td>afternoon</td>\n",
              "      <td>Sep</td>\n",
              "    </tr>\n",
              "    <tr>\n",
              "      <th>2</th>\n",
              "      <td>2021-09-05</td>\n",
              "      <td>2021.0</td>\n",
              "      <td>M</td>\n",
              "      <td>Unprovoked</td>\n",
              "      <td>Unknown</td>\n",
              "      <td>AUSTRALIA</td>\n",
              "      <td>New South Wales</td>\n",
              "      <td>SURFING</td>\n",
              "      <td>31.0</td>\n",
              "      <td>Y</td>\n",
              "      <td>day-morning</td>\n",
              "      <td>Sep</td>\n",
              "    </tr>\n",
              "    <tr>\n",
              "      <th>4</th>\n",
              "      <td>2021-08-28</td>\n",
              "      <td>2021.0</td>\n",
              "      <td>M</td>\n",
              "      <td>Unprovoked</td>\n",
              "      <td>Unknown</td>\n",
              "      <td>USA</td>\n",
              "      <td>Texas</td>\n",
              "      <td>BODY BOARDING</td>\n",
              "      <td>NaN</td>\n",
              "      <td>N</td>\n",
              "      <td>day-morning</td>\n",
              "      <td>Aug</td>\n",
              "    </tr>\n",
              "    <tr>\n",
              "      <th>6</th>\n",
              "      <td>2021-08-21</td>\n",
              "      <td>2021.0</td>\n",
              "      <td>M</td>\n",
              "      <td>Unprovoked</td>\n",
              "      <td>BULL SHARK</td>\n",
              "      <td>USA</td>\n",
              "      <td>Florida</td>\n",
              "      <td>SURFING</td>\n",
              "      <td>41.0</td>\n",
              "      <td>N</td>\n",
              "      <td>day-morning</td>\n",
              "      <td>Aug</td>\n",
              "    </tr>\n",
              "    <tr>\n",
              "      <th>...</th>\n",
              "      <td>...</td>\n",
              "      <td>...</td>\n",
              "      <td>...</td>\n",
              "      <td>...</td>\n",
              "      <td>...</td>\n",
              "      <td>...</td>\n",
              "      <td>...</td>\n",
              "      <td>...</td>\n",
              "      <td>...</td>\n",
              "      <td>...</td>\n",
              "      <td>...</td>\n",
              "      <td>...</td>\n",
              "    </tr>\n",
              "    <tr>\n",
              "      <th>25822</th>\n",
              "      <td>NaT</td>\n",
              "      <td>NaN</td>\n",
              "      <td>NaN</td>\n",
              "      <td>NaN</td>\n",
              "      <td>Unknown</td>\n",
              "      <td>NaN</td>\n",
              "      <td>Unspecified</td>\n",
              "      <td>NaN</td>\n",
              "      <td>NaN</td>\n",
              "      <td>Unknown</td>\n",
              "      <td>Unspecified</td>\n",
              "      <td>Unk</td>\n",
              "    </tr>\n",
              "    <tr>\n",
              "      <th>25823</th>\n",
              "      <td>NaT</td>\n",
              "      <td>NaN</td>\n",
              "      <td>NaN</td>\n",
              "      <td>NaN</td>\n",
              "      <td>Unknown</td>\n",
              "      <td>NaN</td>\n",
              "      <td>Unspecified</td>\n",
              "      <td>NaN</td>\n",
              "      <td>NaN</td>\n",
              "      <td>Unknown</td>\n",
              "      <td>Unspecified</td>\n",
              "      <td>Unk</td>\n",
              "    </tr>\n",
              "    <tr>\n",
              "      <th>25824</th>\n",
              "      <td>NaT</td>\n",
              "      <td>NaN</td>\n",
              "      <td>NaN</td>\n",
              "      <td>NaN</td>\n",
              "      <td>Unknown</td>\n",
              "      <td>NaN</td>\n",
              "      <td>Unspecified</td>\n",
              "      <td>NaN</td>\n",
              "      <td>NaN</td>\n",
              "      <td>Unknown</td>\n",
              "      <td>Unspecified</td>\n",
              "      <td>Unk</td>\n",
              "    </tr>\n",
              "    <tr>\n",
              "      <th>25825</th>\n",
              "      <td>NaT</td>\n",
              "      <td>NaN</td>\n",
              "      <td>NaN</td>\n",
              "      <td>NaN</td>\n",
              "      <td>Unknown</td>\n",
              "      <td>NaN</td>\n",
              "      <td>Unspecified</td>\n",
              "      <td>NaN</td>\n",
              "      <td>NaN</td>\n",
              "      <td>Unknown</td>\n",
              "      <td>Unspecified</td>\n",
              "      <td>Unk</td>\n",
              "    </tr>\n",
              "    <tr>\n",
              "      <th>25826</th>\n",
              "      <td>NaT</td>\n",
              "      <td>NaN</td>\n",
              "      <td>NaN</td>\n",
              "      <td>NaN</td>\n",
              "      <td>Unknown</td>\n",
              "      <td>NaN</td>\n",
              "      <td>Unspecified</td>\n",
              "      <td>NaN</td>\n",
              "      <td>NaN</td>\n",
              "      <td>Unknown</td>\n",
              "      <td>Unspecified</td>\n",
              "      <td>Unk</td>\n",
              "    </tr>\n",
              "  </tbody>\n",
              "</table>\n",
              "<p>24017 rows × 12 columns</p>\n",
              "</div>"
            ],
            "text/plain": [
              "            Date    Year  Sex        Type  ...   Age Fatal (Y/N)         Time Month\n",
              "0     2021-09-10  2021.0    M         NaN  ...   NaN     Unknown  Unspecified   Sep\n",
              "1     2021-09-09  2021.0    M  Unprovoked  ...   NaN           N    afternoon   Sep\n",
              "2     2021-09-05  2021.0    M  Unprovoked  ...  31.0           Y  day-morning   Sep\n",
              "4     2021-08-28  2021.0    M  Unprovoked  ...   NaN           N  day-morning   Aug\n",
              "6     2021-08-21  2021.0    M  Unprovoked  ...  41.0           N  day-morning   Aug\n",
              "...          ...     ...  ...         ...  ...   ...         ...          ...   ...\n",
              "25822        NaT     NaN  NaN         NaN  ...   NaN     Unknown  Unspecified   Unk\n",
              "25823        NaT     NaN  NaN         NaN  ...   NaN     Unknown  Unspecified   Unk\n",
              "25824        NaT     NaN  NaN         NaN  ...   NaN     Unknown  Unspecified   Unk\n",
              "25825        NaT     NaN  NaN         NaN  ...   NaN     Unknown  Unspecified   Unk\n",
              "25826        NaT     NaN  NaN         NaN  ...   NaN     Unknown  Unspecified   Unk\n",
              "\n",
              "[24017 rows x 12 columns]"
            ]
          },
          "metadata": {},
          "execution_count": 58
        }
      ]
    },
    {
      "cell_type": "code",
      "metadata": {
        "id": "7JB9_ODjVzT6",
        "colab": {
          "base_uri": "https://localhost:8080/",
          "height": 600
        },
        "outputId": "517a457a-54a4-4317-e5ac-5a23c0fcc579"
      },
      "source": [
        "dfinal = df.sort_values('Country',ascending=True)\n",
        "\n",
        "display(dfinal)"
      ],
      "execution_count": null,
      "outputs": [
        {
          "output_type": "display_data",
          "data": {
            "text/html": [
              "<div>\n",
              "<style scoped>\n",
              "    .dataframe tbody tr th:only-of-type {\n",
              "        vertical-align: middle;\n",
              "    }\n",
              "\n",
              "    .dataframe tbody tr th {\n",
              "        vertical-align: top;\n",
              "    }\n",
              "\n",
              "    .dataframe thead th {\n",
              "        text-align: right;\n",
              "    }\n",
              "</style>\n",
              "<table border=\"1\" class=\"dataframe\">\n",
              "  <thead>\n",
              "    <tr style=\"text-align: right;\">\n",
              "      <th></th>\n",
              "      <th>Case Number</th>\n",
              "      <th>Date</th>\n",
              "      <th>Year</th>\n",
              "      <th>Sex</th>\n",
              "      <th>Type</th>\n",
              "      <th>Species</th>\n",
              "      <th>Country</th>\n",
              "      <th>Area</th>\n",
              "      <th>Location</th>\n",
              "      <th>Activity</th>\n",
              "      <th>Age</th>\n",
              "      <th>Fatal (Y/N)</th>\n",
              "      <th>Time</th>\n",
              "      <th>Month</th>\n",
              "    </tr>\n",
              "  </thead>\n",
              "  <tbody>\n",
              "    <tr>\n",
              "      <th>6442</th>\n",
              "      <td>1846.09.30.R</td>\n",
              "      <td>1846-09-30</td>\n",
              "      <td>1846.0</td>\n",
              "      <td>M</td>\n",
              "      <td>Unprovoked</td>\n",
              "      <td>Unknown</td>\n",
              "      <td>AFRICA</td>\n",
              "      <td>Unspecified</td>\n",
              "      <td>NaN</td>\n",
              "      <td>OTHER</td>\n",
              "      <td>NaN</td>\n",
              "      <td>Y</td>\n",
              "      <td>Unspecified</td>\n",
              "      <td>Sep</td>\n",
              "    </tr>\n",
              "    <tr>\n",
              "      <th>6451</th>\n",
              "      <td>1844.07.16.R</td>\n",
              "      <td>NaT</td>\n",
              "      <td>1844.0</td>\n",
              "      <td>M</td>\n",
              "      <td>Unprovoked</td>\n",
              "      <td>Unknown</td>\n",
              "      <td>ALGERIA</td>\n",
              "      <td>Unspecified</td>\n",
              "      <td>Cape Matifou</td>\n",
              "      <td>SWIMMING</td>\n",
              "      <td>NaN</td>\n",
              "      <td>Y</td>\n",
              "      <td>Unspecified</td>\n",
              "      <td>Unk</td>\n",
              "    </tr>\n",
              "    <tr>\n",
              "      <th>4528</th>\n",
              "      <td>1958.09.13</td>\n",
              "      <td>1958-09-13</td>\n",
              "      <td>1958.0</td>\n",
              "      <td>M</td>\n",
              "      <td>Unprovoked</td>\n",
              "      <td>BLUE SHARK</td>\n",
              "      <td>ANDAMAN / NICOBAR ISLANDAS</td>\n",
              "      <td>Unspecified</td>\n",
              "      <td>NaN</td>\n",
              "      <td>OTHER</td>\n",
              "      <td>32.0</td>\n",
              "      <td>Y</td>\n",
              "      <td>afternoon</td>\n",
              "      <td>Sep</td>\n",
              "    </tr>\n",
              "    <tr>\n",
              "      <th>6352</th>\n",
              "      <td>1863.00.00.R4</td>\n",
              "      <td>NaT</td>\n",
              "      <td>1863.0</td>\n",
              "      <td>M</td>\n",
              "      <td>Unprovoked</td>\n",
              "      <td>Unknown</td>\n",
              "      <td>ANDAMAN ISLANDS</td>\n",
              "      <td>Unspecified</td>\n",
              "      <td>NaN</td>\n",
              "      <td>FELL INTO THE WATER</td>\n",
              "      <td>NaN</td>\n",
              "      <td>Y</td>\n",
              "      <td>day-morning</td>\n",
              "      <td>Unk</td>\n",
              "    </tr>\n",
              "    <tr>\n",
              "      <th>6515</th>\n",
              "      <td>1808.06.01.R</td>\n",
              "      <td>1808-05-01</td>\n",
              "      <td>1808.0</td>\n",
              "      <td>NaN</td>\n",
              "      <td>Unprovoked</td>\n",
              "      <td>Unknown</td>\n",
              "      <td>ANTIGUA</td>\n",
              "      <td>Unspecified</td>\n",
              "      <td>Falmouth Harbour</td>\n",
              "      <td>NaN</td>\n",
              "      <td>NaN</td>\n",
              "      <td>Unknown</td>\n",
              "      <td>Unspecified</td>\n",
              "      <td>May</td>\n",
              "    </tr>\n",
              "    <tr>\n",
              "      <th>...</th>\n",
              "      <td>...</td>\n",
              "      <td>...</td>\n",
              "      <td>...</td>\n",
              "      <td>...</td>\n",
              "      <td>...</td>\n",
              "      <td>...</td>\n",
              "      <td>...</td>\n",
              "      <td>...</td>\n",
              "      <td>...</td>\n",
              "      <td>...</td>\n",
              "      <td>...</td>\n",
              "      <td>...</td>\n",
              "      <td>...</td>\n",
              "      <td>...</td>\n",
              "    </tr>\n",
              "    <tr>\n",
              "      <th>25822</th>\n",
              "      <td>NaN</td>\n",
              "      <td>NaT</td>\n",
              "      <td>NaN</td>\n",
              "      <td>NaN</td>\n",
              "      <td>NaN</td>\n",
              "      <td>Unknown</td>\n",
              "      <td>NaN</td>\n",
              "      <td>Unspecified</td>\n",
              "      <td>NaN</td>\n",
              "      <td>NaN</td>\n",
              "      <td>NaN</td>\n",
              "      <td>Unknown</td>\n",
              "      <td>Unspecified</td>\n",
              "      <td>Unk</td>\n",
              "    </tr>\n",
              "    <tr>\n",
              "      <th>25823</th>\n",
              "      <td>NaN</td>\n",
              "      <td>NaT</td>\n",
              "      <td>NaN</td>\n",
              "      <td>NaN</td>\n",
              "      <td>NaN</td>\n",
              "      <td>Unknown</td>\n",
              "      <td>NaN</td>\n",
              "      <td>Unspecified</td>\n",
              "      <td>NaN</td>\n",
              "      <td>NaN</td>\n",
              "      <td>NaN</td>\n",
              "      <td>Unknown</td>\n",
              "      <td>Unspecified</td>\n",
              "      <td>Unk</td>\n",
              "    </tr>\n",
              "    <tr>\n",
              "      <th>25824</th>\n",
              "      <td>NaN</td>\n",
              "      <td>NaT</td>\n",
              "      <td>NaN</td>\n",
              "      <td>NaN</td>\n",
              "      <td>NaN</td>\n",
              "      <td>Unknown</td>\n",
              "      <td>NaN</td>\n",
              "      <td>Unspecified</td>\n",
              "      <td>NaN</td>\n",
              "      <td>NaN</td>\n",
              "      <td>NaN</td>\n",
              "      <td>Unknown</td>\n",
              "      <td>Unspecified</td>\n",
              "      <td>Unk</td>\n",
              "    </tr>\n",
              "    <tr>\n",
              "      <th>25825</th>\n",
              "      <td>NaN</td>\n",
              "      <td>NaT</td>\n",
              "      <td>NaN</td>\n",
              "      <td>NaN</td>\n",
              "      <td>NaN</td>\n",
              "      <td>Unknown</td>\n",
              "      <td>NaN</td>\n",
              "      <td>Unspecified</td>\n",
              "      <td>NaN</td>\n",
              "      <td>NaN</td>\n",
              "      <td>NaN</td>\n",
              "      <td>Unknown</td>\n",
              "      <td>Unspecified</td>\n",
              "      <td>Unk</td>\n",
              "    </tr>\n",
              "    <tr>\n",
              "      <th>25826</th>\n",
              "      <td>NaN</td>\n",
              "      <td>NaT</td>\n",
              "      <td>NaN</td>\n",
              "      <td>NaN</td>\n",
              "      <td>NaN</td>\n",
              "      <td>Unknown</td>\n",
              "      <td>NaN</td>\n",
              "      <td>Unspecified</td>\n",
              "      <td>NaN</td>\n",
              "      <td>NaN</td>\n",
              "      <td>NaN</td>\n",
              "      <td>Unknown</td>\n",
              "      <td>Unspecified</td>\n",
              "      <td>Unk</td>\n",
              "    </tr>\n",
              "  </tbody>\n",
              "</table>\n",
              "<p>24017 rows × 14 columns</p>\n",
              "</div>"
            ],
            "text/plain": [
              "         Case Number       Date    Year  ... Fatal (Y/N)         Time Month\n",
              "6442    1846.09.30.R 1846-09-30  1846.0  ...           Y  Unspecified   Sep\n",
              "6451    1844.07.16.R        NaT  1844.0  ...           Y  Unspecified   Unk\n",
              "4528      1958.09.13 1958-09-13  1958.0  ...           Y    afternoon   Sep\n",
              "6352   1863.00.00.R4        NaT  1863.0  ...           Y  day-morning   Unk\n",
              "6515    1808.06.01.R 1808-05-01  1808.0  ...     Unknown  Unspecified   May\n",
              "...              ...        ...     ...  ...         ...          ...   ...\n",
              "25822            NaN        NaT     NaN  ...     Unknown  Unspecified   Unk\n",
              "25823            NaN        NaT     NaN  ...     Unknown  Unspecified   Unk\n",
              "25824            NaN        NaT     NaN  ...     Unknown  Unspecified   Unk\n",
              "25825            NaN        NaT     NaN  ...     Unknown  Unspecified   Unk\n",
              "25826            NaN        NaT     NaN  ...     Unknown  Unspecified   Unk\n",
              "\n",
              "[24017 rows x 14 columns]"
            ]
          },
          "metadata": {}
        }
      ]
    },
    {
      "cell_type": "code",
      "metadata": {
        "id": "bPg_2BbnWYJf"
      },
      "source": [
        "export_csv = dfinal.to_csv ('/content/sample_data/sharkcleanedFile.csv', index=None, header=True)"
      ],
      "execution_count": null,
      "outputs": []
    }
  ]
}